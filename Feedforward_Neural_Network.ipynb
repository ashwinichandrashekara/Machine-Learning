{
  "nbformat": 4,
  "nbformat_minor": 0,
  "metadata": {
    "colab": {
      "provenance": []
    },
    "kernelspec": {
      "name": "python3",
      "display_name": "Python 3"
    },
    "language_info": {
      "name": "python"
    }
  },
  "cells": [
    {
      "cell_type": "code",
      "source": [
        "import numpy as np\n",
        "import matplotlib.pyplot as plt"
      ],
      "metadata": {
        "id": "aWk4jHSAG9B-"
      },
      "execution_count": null,
      "outputs": []
    },
    {
      "cell_type": "code",
      "source": [
        "x1 = np.random.randint(3,12,10)\n",
        "x2 = np.random.randint(9,18,10)\n",
        "x3 = np.random.randint(12,20,10)\n",
        "y = 7*x1 + 5*x2 + 4*x3"
      ],
      "metadata": {
        "id": "Eog-5Xh_HvAO"
      },
      "execution_count": null,
      "outputs": []
    },
    {
      "cell_type": "code",
      "source": [
        "x1, x2, x3"
      ],
      "metadata": {
        "colab": {
          "base_uri": "https://localhost:8080/"
        },
        "id": "DC43CUKkJfvj",
        "outputId": "3dd5b0ca-ff8f-49e3-d89d-a1fdbcae0dee"
      },
      "execution_count": null,
      "outputs": [
        {
          "output_type": "execute_result",
          "data": {
            "text/plain": [
              "(array([ 4,  9,  4,  5,  6,  4, 10,  3,  8,  7]),\n",
              " array([14, 10, 12, 15, 16,  9, 12, 13, 15, 17]),\n",
              " array([19, 19, 19, 19, 14, 13, 15, 12, 18, 19]))"
            ]
          },
          "metadata": {},
          "execution_count": 3
        }
      ]
    },
    {
      "cell_type": "code",
      "source": [
        "shape = x1.shape[0]\n",
        "shape"
      ],
      "metadata": {
        "colab": {
          "base_uri": "https://localhost:8080/"
        },
        "id": "gFL3zVwFJqKf",
        "outputId": "17b3cfa4-bed8-4c96-e12c-300b2d2beead"
      },
      "execution_count": null,
      "outputs": [
        {
          "output_type": "execute_result",
          "data": {
            "text/plain": [
              "10"
            ]
          },
          "metadata": {},
          "execution_count": 4
        }
      ]
    },
    {
      "cell_type": "code",
      "source": [
        "y"
      ],
      "metadata": {
        "colab": {
          "base_uri": "https://localhost:8080/"
        },
        "id": "uO5DOXCnJ3lv",
        "outputId": "6c0c08c3-5127-4f5e-a464-05d08b13c1a6"
      },
      "execution_count": null,
      "outputs": [
        {
          "output_type": "execute_result",
          "data": {
            "text/plain": [
              "array([174, 189, 164, 186, 178, 125, 190, 134, 203, 210])"
            ]
          },
          "metadata": {},
          "execution_count": 5
        }
      ]
    },
    {
      "cell_type": "code",
      "source": [
        "y = y.reshape(shape, 1)\n",
        "y"
      ],
      "metadata": {
        "colab": {
          "base_uri": "https://localhost:8080/"
        },
        "id": "OavyNE8eJ49R",
        "outputId": "03462025-549f-41dc-c7d5-6498952c5ea4"
      },
      "execution_count": null,
      "outputs": [
        {
          "output_type": "execute_result",
          "data": {
            "text/plain": [
              "array([[174],\n",
              "       [189],\n",
              "       [164],\n",
              "       [186],\n",
              "       [178],\n",
              "       [125],\n",
              "       [190],\n",
              "       [134],\n",
              "       [203],\n",
              "       [210]])"
            ]
          },
          "metadata": {},
          "execution_count": 7
        }
      ]
    },
    {
      "cell_type": "code",
      "source": [
        "x = np.array([x1, x2, x3])\n",
        "x"
      ],
      "metadata": {
        "colab": {
          "base_uri": "https://localhost:8080/"
        },
        "id": "mCyRtl2bKM9p",
        "outputId": "5614fa68-3355-4235-8647-31c78c591ba7"
      },
      "execution_count": null,
      "outputs": [
        {
          "output_type": "execute_result",
          "data": {
            "text/plain": [
              "array([[ 4,  9,  4,  5,  6,  4, 10,  3,  8,  7],\n",
              "       [14, 10, 12, 15, 16,  9, 12, 13, 15, 17],\n",
              "       [19, 19, 19, 19, 14, 13, 15, 12, 18, 19]])"
            ]
          },
          "metadata": {},
          "execution_count": 8
        }
      ]
    },
    {
      "cell_type": "code",
      "source": [
        "x = x.T\n",
        "x"
      ],
      "metadata": {
        "colab": {
          "base_uri": "https://localhost:8080/"
        },
        "id": "0X9YJ6fpKiFa",
        "outputId": "c30ca5e0-3d57-4202-a602-d3cc7c58207a"
      },
      "execution_count": null,
      "outputs": [
        {
          "output_type": "execute_result",
          "data": {
            "text/plain": [
              "array([[ 4, 14, 19],\n",
              "       [ 9, 10, 19],\n",
              "       [ 4, 12, 19],\n",
              "       [ 5, 15, 19],\n",
              "       [ 6, 16, 14],\n",
              "       [ 4,  9, 13],\n",
              "       [10, 12, 15],\n",
              "       [ 3, 13, 12],\n",
              "       [ 8, 15, 18],\n",
              "       [ 7, 17, 19]])"
            ]
          },
          "metadata": {},
          "execution_count": 9
        }
      ]
    },
    {
      "cell_type": "code",
      "source": [
        "learningrate = 0.0001\n",
        "w = np.array([np.random.randn(1),\n",
        "              np.random.randn(1),\n",
        "              np.random.randn(1)])\n",
        "w"
      ],
      "metadata": {
        "colab": {
          "base_uri": "https://localhost:8080/"
        },
        "id": "BlswtCNQKnjk",
        "outputId": "e1a79b84-21bc-4bdc-9359-426fe4bf6d48"
      },
      "execution_count": null,
      "outputs": [
        {
          "output_type": "execute_result",
          "data": {
            "text/plain": [
              "array([[-0.6690873 ],\n",
              "       [-0.65032342],\n",
              "       [ 1.68009513]])"
            ]
          },
          "metadata": {},
          "execution_count": 15
        }
      ]
    },
    {
      "cell_type": "code",
      "source": [
        "error_list = []\n",
        "for i in range(50):\n",
        "  y_pred = np.matmul(x,w)\n",
        "  error = (y - y_pred)**2\n",
        "  w1 = 2*np.matmul((y - y_pred).T, (-x[:,0].reshape(shape,1)))\n",
        "  w2 = 2*np.matmul((y - y_pred).T, (-x[:,1].reshape(shape,1)))\n",
        "  w3 = 2*np.matmul((y - y_pred).T, (-x[:,2].reshape(shape,1)))\n",
        "\n",
        "  w[0][0] = w[0][0] - learningrate*w1\n",
        "  w[1][0] = w[1][0] - learningrate*w2\n",
        "  w[2][0] = w[2][0] - learningrate*w3\n",
        "\n",
        "  error_list.append(error.mean())\n",
        "  print(\"value of w1 - \", w[0][0], \"value of w2 - \", w[1][0], \"value of w3 - \", w[2][0], error)"
      ],
      "metadata": {
        "colab": {
          "base_uri": "https://localhost:8080/"
        },
        "id": "z42qN-D8LO_u",
        "outputId": "03521504-d6d6-42c1-9b5e-c15cf65ba4ac"
      },
      "execution_count": null,
      "outputs": [
        {
          "output_type": "stream",
          "name": "stdout",
          "text": [
            "value of w1 -  1.3376358272918978 value of w2 -  3.6809384381555135 value of w3 -  7.09857984277642 [[23672.61331999]\n",
            " [28765.24968487]\n",
            " [20322.90391906]\n",
            " [27948.64430636]\n",
            " [28526.65829231]\n",
            " [12474.2145555 ]\n",
            " [32146.09715674]\n",
            " [15450.5707567 ]\n",
            " [35293.57286971]\n",
            " [37565.14649095]]\n",
            "value of w1 -  1.3847495326850705 value of w2 -  3.6807528986817 value of w3 -  7.066733664925431 [[315.30034006]\n",
            " [ 27.86653351]\n",
            " [415.94874727]\n",
            " [116.10650222]\n",
            " [136.86782301]\n",
            " [ 33.18367372]\n",
            " [674.63219963]\n",
            " [  9.29070202]\n",
            " [ 86.68354144]\n",
            " [ 10.16065827]]\n",
            "value of w1 -  1.4344882305366522 value of w2 -  3.687367177867252 value of w3 -  7.043622765411321 [[300.58815539]\n",
            " [ 29.83110178]\n",
            " [399.03947926]\n",
            " [108.22200905]\n",
            " [140.78261784]\n",
            " [ 30.61754017]\n",
            " [675.08848306]\n",
            " [  7.86712888]\n",
            " [ 90.43067183]\n",
            " [ 12.01325554]]\n",
            "value of w1 -  1.4837722548325825 value of w2 -  3.6939627706124645 value of w3 -  7.0206664415966875 [[295.49355434]\n",
            " [ 29.02086369]\n",
            " [392.64181812]\n",
            " [106.33283489]\n",
            " [138.87389946]\n",
            " [ 30.15496297]\n",
            " [663.18456469]\n",
            " [  7.63257311]\n",
            " [ 88.89428739]\n",
            " [ 11.86463412]]\n",
            "value of w1 -  1.5326106160697397 value of w2 -  3.700549950253182 value of w3 -  6.997877031825215 [[290.47169559]\n",
            " [ 28.23604119]\n",
            " [386.33100116]\n",
            " [104.4681301 ]\n",
            " [136.99840929]\n",
            " [ 29.69615322]\n",
            " [651.51171805]\n",
            " [  7.40291633]\n",
            " [ 87.39229189]\n",
            " [ 11.72079543]]\n",
            "value of w1 -  1.5810074309818858 value of w2 -  3.707128267151292 value of w3 -  6.975253376370137 [[285.53582641]\n",
            " [ 27.47165913]\n",
            " [380.12152426]\n",
            " [102.63647085]\n",
            " [135.14663877]\n",
            " [ 29.24422978]\n",
            " [640.04643206]\n",
            " [  7.17975017]\n",
            " [ 85.91583005]\n",
            " [ 11.57845527]]\n",
            "value of w1 -  1.628966784824516 value of w2 -  3.713697297617897 value of w3 -  6.952794343568533 [[280.68444035]\n",
            " [ 26.72720735]\n",
            " [374.01173794]\n",
            " [100.83725144]\n",
            " [133.31833389]\n",
            " [ 28.79908635]\n",
            " [628.78500516]\n",
            " [  6.9628975 ]\n",
            " [ 84.46447726]\n",
            " [ 11.43760806]]\n",
            "value of w1 -  1.6764927241137964 value of w2 -  3.7202566268843236 value of w3 -  6.93049880853459 [[275.91607984]\n",
            " [ 26.0021816 ]\n",
            " [368.00004394]\n",
            " [ 99.0698912 ]\n",
            " [131.51322856]\n",
            " [ 28.3606231 ]\n",
            " [617.72377291]\n",
            " [  6.75218846]\n",
            " [ 83.03780338]\n",
            " [ 11.29824303]]\n",
            "value of w1 -  1.7235892570147688 value of w2 -  3.7268058489948634 value of w3 -  6.908365653164138 [[271.22931261]\n",
            " [ 25.29609006]\n",
            " [362.08486952]\n",
            " [ 97.33381994]\n",
            " [129.73105909]\n",
            " [ 27.92874163]\n",
            " [606.85913754]\n",
            " [  6.54745756]\n",
            " [ 81.63538567]\n",
            " [ 11.1603494 ]]\n",
            "value of w1 -  1.770260353713787 value of w2 -  3.7333445666746816 value of w3 -  6.886393766105649 [[266.62273134]\n",
            " [ 24.60845308]\n",
            " [356.26466714]\n",
            " [ 95.62847781]\n",
            " [127.97156414]\n",
            " [ 27.50334496]\n",
            " [596.18756667]\n",
            " [  6.34854363]\n",
            " [ 80.25680873]\n",
            " [ 11.02391635]]\n",
            "value of w1 -  1.8165099467872678 value of w2 -  3.73987239119951 value of w3 -  6.864582042731247 [[262.09495319]\n",
            " [ 23.93880288]\n",
            " [350.53791401]\n",
            " [ 93.95331508]\n",
            " [126.23448473]\n",
            " [ 27.08433749]\n",
            " [585.70559212]\n",
            " [  6.15528965]\n",
            " [ 78.90166431]\n",
            " [ 10.88893303]]\n",
            "value of w1 -  1.8623419315667795 value of w2 -  3.7463889422670715 value of w3 -  6.842929385107665 [[257.64461936]\n",
            " [ 23.28668323]\n",
            " [344.90311173]\n",
            " [ 92.30779195]\n",
            " [124.51956423]\n",
            " [ 26.67162502]\n",
            " [575.40980871]\n",
            " [  5.96754269]\n",
            " [ 77.56955122]\n",
            " [ 10.75538858]]\n",
            "value of w1 -  1.9077601665004997 value of w2 -  3.752893847870193 value of w3 -  6.821434701967139 [[253.27039469]\n",
            " [ 22.65164921]\n",
            " [339.3587859 ]\n",
            " [ 90.69137841]\n",
            " [122.82654834]\n",
            " [ 26.26511469]\n",
            " [565.2968731 ]\n",
            " [  5.7851538 ]\n",
            " [ 76.26007517]\n",
            " [ 10.6232721 ]]\n",
            "value of w1 -  1.9527684735110857 value of w2 -  3.759386744171612 value of w3 -  6.800096908678281 [[248.97096726]\n",
            " [ 22.03326692]\n",
            " [333.9034857 ]\n",
            " [ 89.10355401]\n",
            " [121.15518509]\n",
            " [ 25.86471496]\n",
            " [555.3635027 ]\n",
            " [  5.60797787]\n",
            " [ 74.97284869]\n",
            " [ 10.49257266]]\n",
            "value of w1 -  1.9973706383499863 value of w2 -  3.7658672753804305 value of w3 -  6.778914927216895 [[244.74504792]\n",
            " [ 21.43111319]\n",
            " [328.53578354]\n",
            " [ 87.54380772]\n",
            " [119.50522484]\n",
            " [ 25.47033563]\n",
            " [545.60647449]\n",
            " [  5.43587359]\n",
            " [ 73.70749102]\n",
            " [ 10.36327935]]\n",
            "value of w1 -  2.041570410948238 value of w2 -  3.7723350936302156 value of w3 -  6.7578876861367565 [[240.59136998]\n",
            " [ 20.84477535]\n",
            " [323.25427469]\n",
            " [ 86.01163775]\n",
            " [117.87642027]\n",
            " [ 25.0818878 ]\n",
            " [536.02262397]\n",
            " [  5.26870334]\n",
            " [ 72.46362791]\n",
            " [ 10.23538121]]\n",
            "value of w1 -  2.0853715057637787 value of w2 -  3.7787898588587145 value of w3 -  6.737014120540367 [[236.50868872]\n",
            " [ 20.27385098]\n",
            " [318.05757693]\n",
            " [ 84.50655136]\n",
            " [116.26852633]\n",
            " [ 24.69928384]\n",
            " [526.60884406]\n",
            " [  5.10633305]\n",
            " [ 71.24089163]\n",
            " [ 10.1088673 ]]\n",
            "value of w1 -  2.12877760212531 value of w2 -  3.7852312386891684 value of w3 -  6.716293172049668 [[232.49578107]\n",
            " [ 19.71794761]\n",
            " [312.94433014]\n",
            " [ 83.02806475]\n",
            " [114.68130032]\n",
            " [ 24.3224374 ]\n",
            " [517.36208408]\n",
            " [  4.94863217]\n",
            " [ 70.03892074]\n",
            " [  9.98372664]]\n",
            "value of w1 -  2.171792344572753 value of w2 -  3.7916589083132046 value of w3 -  6.69572378877673 [[228.55144523]\n",
            " [ 19.17668256]\n",
            " [307.91319599]\n",
            " [ 81.5757028 ]\n",
            " [113.11450177]\n",
            " [ 23.95126334]\n",
            " [508.27934866]\n",
            " [  4.79547357]\n",
            " [ 68.85736006]\n",
            " [  9.85994828]]\n",
            "value of w1 -  2.214419343194321 value of w2 -  3.798072550375289 value of w3 -  6.675304925294424 [[224.67450025]\n",
            " [ 18.64968261]\n",
            " [302.96285758]\n",
            " [ 80.14899903]\n",
            " [111.56789254]\n",
            " [ 23.58567779]\n",
            " [499.35769678]\n",
            " [  4.6467334 ]\n",
            " [ 67.69586053]\n",
            " [  9.73752125]]\n",
            "value of w1 -  2.256662173960252 value of w2 -  3.8044718548587126 value of w3 -  6.655035542607058 [[220.8637857 ]\n",
            " [ 18.13658384]\n",
            " [298.09201911]\n",
            " [ 78.74749534]\n",
            " [110.04123671]\n",
            " [ 23.22559808]\n",
            " [490.59424073]\n",
            " [  4.50229108]\n",
            " [ 66.5540791 ]\n",
            " [  9.61643457]]\n",
            "value of w1 -  2.2985243790532293 value of w2 -  3.810856518973107 value of w3 -  6.63491460812101 [[217.11816132]\n",
            " [ 17.63703137]\n",
            " [293.2994055 ]\n",
            " [ 77.37074193]\n",
            " [108.53430065]\n",
            " [ 22.87094272]\n",
            " [481.98614518]\n",
            " [  4.36202918]\n",
            " [ 65.43167863]\n",
            " [  9.49667729]]\n",
            "value of w1 -  2.3400094671955274 value of w2 -  3.8172262470434504 value of w3 -  6.614941095615335 [[213.43650663]\n",
            " [ 17.15067914]\n",
            " [288.58376212]\n",
            " [ 76.01829709]\n",
            " [107.04685296]\n",
            " [ 22.5216314 ]\n",
            " [473.53062616]\n",
            " [  4.22583334]\n",
            " [ 64.3283278 ]\n",
            " [  9.37823845]]\n",
            "value of w1 -  2.3811209139729135 value of w2 -  3.823580750400564 value of w3 -  6.595113985212367 [[209.8177206 ]\n",
            " [ 16.67718973]\n",
            " [283.94385441]\n",
            " [ 74.6897271 ]\n",
            " [105.57866448]\n",
            " [ 22.177585  ]\n",
            " [465.22495017]\n",
            " [  4.0935922 ]\n",
            " [ 63.243701  ]\n",
            " [  9.2611071 ]]\n",
            "value of w1 -  2.42186216215534 value of w2 -  3.829919747273068 value of w3 -  6.575432263348302 [[206.26072134]\n",
            " [ 16.2162341 ]\n",
            " [279.37846758]\n",
            " [ 73.38460606]\n",
            " [104.12950827]\n",
            " [ 21.8387255 ]\n",
            " [457.06643321]\n",
            " [  3.96519731]\n",
            " [ 62.17747822]\n",
            " [  9.1452723 ]]\n",
            "value of w1 -  2.462236622014459 value of w2 -  3.8362429626807866 value of w3 -  6.555894922743788 [[202.7644457 ]\n",
            " [ 15.7674914 ]\n",
            " [274.88640631]\n",
            " [ 72.10251574]\n",
            " [102.69915959]\n",
            " [ 21.50497605]\n",
            " [449.05243993]\n",
            " [  3.84054309]\n",
            " [ 61.12934496]\n",
            " [  9.03072312]]\n",
            "value of w1 -  2.502247671637991 value of w2 -  3.842550128329576 value of w3 -  6.536500962374498 [[199.32784901]\n",
            " [ 15.3306488 ]\n",
            " [270.46649442]\n",
            " [ 70.84304547]\n",
            " [101.28739594]\n",
            " [ 21.17626088]\n",
            " [441.18038268]\n",
            " [  3.71952671]\n",
            " [ 60.09899214]\n",
            " [  8.91744866]]\n",
            "value of w1 -  2.5418986572409814 value of w2 -  3.848840982507566 value of w3 -  6.517249387441709 [[195.94990471]\n",
            " [ 14.90540127]\n",
            " [266.11757456]\n",
            " [ 69.60579197]\n",
            " [ 99.89399698]\n",
            " [ 20.85250535]\n",
            " [433.44772066]\n",
            " [  3.60204806]\n",
            " [ 59.08611602]\n",
            " [  8.80543802]]\n",
            "value of w1 -  2.581192893473972 value of w2 -  3.855115269982792 value of w3 -  6.498139209342883 [[192.62960405]\n",
            " [ 14.49145138]\n",
            " [261.83850793]\n",
            " [ 68.39035923]\n",
            " [ 98.51874454]\n",
            " [ 20.53363588]\n",
            " [425.85195908]\n",
            " [  3.48800967]\n",
            " [ 58.09041806]\n",
            " [  8.69468034]]\n",
            "value of w1 -  2.620133663728124 value of w2 -  3.8613727419022035 value of w3 -  6.479169445642248 [[189.36595578]\n",
            " [ 14.08850913]\n",
            " [257.62817394]\n",
            " [ 67.1963584 ]\n",
            " [ 97.16142265]\n",
            " [ 20.21957996]\n",
            " [418.39064829]\n",
            " [  3.37731662]\n",
            " [ 57.11160488]\n",
            " [  8.58516475]]\n",
            "value of w1 -  2.658724220437321 value of w2 -  3.8676131556920246 value of w3 -  6.4603391200413895 [[186.15798582]\n",
            " [ 13.69629176]\n",
            " [253.48546998]\n",
            " [ 66.02340759]\n",
            " [ 95.82181746]\n",
            " [ 19.91026614]\n",
            " [411.06138296]\n",
            " [  3.2698765 ]\n",
            " [ 56.14938813]\n",
            " [  8.47688043]]\n",
            "value of w1 -  2.6969677853772818 value of w2 -  3.873836274959464 value of w3 -  6.44164726234985 [[183.00473701]\n",
            " [ 13.3145236 ]\n",
            " [249.40931109]\n",
            " [ 64.87113183]\n",
            " [ 94.49971727]\n",
            " [ 19.60562399]\n",
            " [403.86180129]\n",
            " [  3.16559935]\n",
            " [ 55.20348445]\n",
            " [  8.36981659]]\n",
            "value of w1 -  2.734867549961712 value of w2 -  3.8800418693957397 value of w3 -  6.423092908455739 [[179.90526876]\n",
            " [ 12.94293584]\n",
            " [245.3986297 ]\n",
            " [ 63.73916288]\n",
            " [ 93.19491253]\n",
            " [ 19.30558413]\n",
            " [396.78958417]\n",
            " [  3.06439757]\n",
            " [ 54.27361533]\n",
            " [  8.26396243]]\n",
            "value of w1 -  2.7724266755355305 value of w2 -  3.886229714680417 value of w3 -  6.404675100296358 [[176.8586568 ]\n",
            " [ 12.58126643]\n",
            " [241.45237532]\n",
            " [ 62.62713915]\n",
            " [ 91.90719578]\n",
            " [ 19.01007816]\n",
            " [389.84245445]\n",
            " [  2.96618589]\n",
            " [ 53.35950707]\n",
            " [  8.15930723]]\n",
            "value of w1 -  2.8096482936651928 value of w2 -  3.8923995923870334 value of w3 -  6.386392885828846 [[173.86399286]\n",
            " [ 12.22925986]\n",
            " [237.56951429]\n",
            " [ 61.53470555]\n",
            " [ 90.63636167]\n",
            " [ 18.71903869]\n",
            " [383.01817614]\n",
            " [  2.8708813 ]\n",
            " [ 52.46089067]\n",
            " [  8.05584026]]\n",
            "value of w1 -  2.8465355064261457 value of w2 -  3.8985512898900017 value of w3 -  6.368245319000835 [[170.92038443]\n",
            " [ 11.88666703]\n",
            " [233.74902954]\n",
            " [ 60.46151337]\n",
            " [ 89.38220695]\n",
            " [ 18.43239932]\n",
            " [376.31455366]\n",
            " [  2.77840296]\n",
            " [ 51.57750175]\n",
            " [  7.95355084]]\n",
            "value of w1 -  2.8830913866874393 value of w2 -  3.904684600272767 value of w3 -  6.350231459721136 [[168.02695444]\n",
            " [ 11.55324507]\n",
            " [229.98992026]\n",
            " [ 59.40722018]\n",
            " [ 88.14453043]\n",
            " [ 18.15009459]\n",
            " [369.72943111]\n",
            " [  2.68867222]\n",
            " [ 50.70908048]\n",
            " [  7.85242833]]\n",
            "value of w1 -  2.919318978393527 value of w2 -  3.9107993222372115 value of w3 -  6.332350373830443 [[165.18284102]\n",
            " [ 11.22875721]\n",
            " [226.29120169]\n",
            " [ 58.37148973]\n",
            " [ 86.92313301]\n",
            " [ 17.87206   ]\n",
            " [363.26069154]\n",
            " [  2.60161248]\n",
            " [ 49.85537151]\n",
            " [  7.75246211]]\n",
            "value of w1 -  2.955221296843282 value of w2 -  3.9168952600142815 value of w3 -  6.314601133072064 [[162.38719724]\n",
            " [ 10.91297264]\n",
            " [222.65190484]\n",
            " [ 57.35399179]\n",
            " [ 85.71781762]\n",
            " [ 17.59823201]\n",
            " [356.90625624]\n",
            " [  2.51714919]\n",
            " [ 49.01612387]\n",
            " [  7.6536416 ]]\n",
            "value of w1 -  2.9908013289662554 value of w2 -  3.922972223275831 value of w3 -  6.296982815062681 [[159.63919082]\n",
            " [ 10.60566631]\n",
            " [219.07107625]\n",
            " [ 56.35440209]\n",
            " [ 84.52838922]\n",
            " [ 17.32854798]\n",
            " [350.66408403]\n",
            " [  2.43520977]\n",
            " [ 48.1910909 ]\n",
            " [  7.55595627]]\n",
            "value of w1 -  3.026062033596209 value of w2 -  3.9290300270476557 value of w3 -  6.279494503263137 [[156.93800389]\n",
            " [ 10.30661885]\n",
            " [215.54777772]\n",
            " [ 55.37240218]\n",
            " [ 83.35465482]\n",
            " [ 17.0629462 ]\n",
            " [344.53217061]\n",
            " [  2.3557236 ]\n",
            " [ 47.38003018]\n",
            " [  7.45939562]]\n",
            "value of w1 -  3.061006341741944 value of w2 -  3.935068491623716 value of w3 -  6.262135286949255 [[154.28283276]\n",
            " [ 10.01561639]\n",
            " [212.08108611]\n",
            " [ 54.40767934]\n",
            " [ 82.19642342]\n",
            " [ 16.80136585]\n",
            " [338.50854785]\n",
            " [  2.27862192]\n",
            " [ 46.58270346]\n",
            " [  7.3639492 ]]\n",
            "value of w1 -  3.0956371568554593 value of w2 -  3.9410874424815217 value of w3 -  6.2449042611827 [[151.67288761]\n",
            " [  9.73245045]\n",
            " [208.67009306]\n",
            " [ 53.45992646]\n",
            " [ 81.05350603]\n",
            " [ 16.54374701]\n",
            " [332.59128312]\n",
            " [  2.20383781]\n",
            " [ 45.7988766 ]\n",
            " [  7.26960659]]\n",
            "value of w1 -  3.129957355097461 value of w2 -  3.9470867101986653 value of w3 -  6.22780052678186 [[149.10739233]\n",
            " [  9.45691778]\n",
            " [205.31390476]\n",
            " [ 52.52884196]\n",
            " [ 79.92571562]\n",
            " [ 16.2900306 ]\n",
            " [326.77847868]\n",
            " [  2.13130613]\n",
            " [ 45.02831944]\n",
            " [  7.17635743]]\n",
            "value of w1 -  3.163969785600253 value of w2 -  3.953066130370502 value of w3 -  6.210823190292781 [[146.58558421]\n",
            " [  9.18882027]\n",
            " [202.01164171]\n",
            " [ 51.61412967]\n",
            " [ 78.81286716]\n",
            " [ 16.04015845]\n",
            " [321.06827104]\n",
            " [  2.06096349]\n",
            " [ 44.27080581]\n",
            " [  7.08419139]]\n",
            "value of w1 -  3.1976772707280343 value of w2 -  3.9590255435289445 value of w3 -  6.193971363960132 [[144.10671376]\n",
            " [  8.92796478]\n",
            " [198.76243854]\n",
            " [ 50.71549874]\n",
            " [ 77.71477755]\n",
            " [ 15.79407321]\n",
            " [315.4588303 ]\n",
            " [  1.9927482 ]\n",
            " [ 43.52611341]\n",
            " [  6.99309818]]\n",
            "value of w1 -  3.231082606334628 value of w2 -  3.96496479506237 value of w3 -  6.177244165698217 [[141.67004442]\n",
            " [  8.67416306]\n",
            " [195.56544371]\n",
            " [ 49.83266356]\n",
            " [ 76.63126565]\n",
            " [ 15.55171837]\n",
            " [309.94835957]\n",
            " [  1.9266002 ]\n",
            " [ 42.79402376]\n",
            " [  6.9030676 ]]\n",
            "value of w1 -  3.2641885620186706 value of w2 -  3.9708837351366197 value of w3 -  6.160640719062026 [[139.27485241]\n",
            " [  8.42723159]\n",
            " [192.41981935]\n",
            " [ 48.96534361]\n",
            " [ 75.56215222]\n",
            " [ 15.31303825]\n",
            " [304.53509435]\n",
            " [  1.86246107]\n",
            " [ 42.07432213]\n",
            " [  6.81408944]]\n",
            "value of w1 -  3.296997881376284 value of w2 -  3.9767822186170854 value of w3 -  6.144160153218333 [[136.92042642]\n",
            " [  8.1869915 ]\n",
            " [189.324741  ]\n",
            " [ 48.11326345]\n",
            " [ 74.50725996]\n",
            " [ 15.07797799]\n",
            " [299.21730193]\n",
            " [  1.80027393]\n",
            " [ 41.36679748]\n",
            " [  6.72615359]]\n",
            "value of w1 -  3.329513282251259 value of w2 -  3.9826601049918557 value of w3 -  6.127801602916849 [[134.60606748]\n",
            " [  7.95326842]\n",
            " [186.27939743]\n",
            " [ 47.27615255]\n",
            " [ 73.46641345]\n",
            " [ 14.84648353]\n",
            " [293.99328087]\n",
            " [  1.73998346]\n",
            " [ 40.67124239]\n",
            " [  6.63924995]]\n"
          ]
        },
        {
          "output_type": "stream",
          "name": "stderr",
          "text": [
            "<ipython-input-16-863ccb018097>:9: DeprecationWarning: Conversion of an array with ndim > 0 to a scalar is deprecated, and will error in future. Ensure you extract a single element from your array before performing this operation. (Deprecated NumPy 1.25.)\n",
            "  w[0][0] = w[0][0] - learningrate*w1\n",
            "<ipython-input-16-863ccb018097>:10: DeprecationWarning: Conversion of an array with ndim > 0 to a scalar is deprecated, and will error in future. Ensure you extract a single element from your array before performing this operation. (Deprecated NumPy 1.25.)\n",
            "  w[1][0] = w[1][0] - learningrate*w2\n",
            "<ipython-input-16-863ccb018097>:11: DeprecationWarning: Conversion of an array with ndim > 0 to a scalar is deprecated, and will error in future. Ensure you extract a single element from your array before performing this operation. (Deprecated NumPy 1.25.)\n",
            "  w[2][0] = w[2][0] - learningrate*w3\n"
          ]
        }
      ]
    },
    {
      "cell_type": "code",
      "source": [
        "plt.plot(error_list)"
      ],
      "metadata": {
        "colab": {
          "base_uri": "https://localhost:8080/",
          "height": 447
        },
        "id": "pYgeUtxkPOrG",
        "outputId": "b400a4c4-4c3e-4a48-861e-17f5cd222cb7"
      },
      "execution_count": null,
      "outputs": [
        {
          "output_type": "execute_result",
          "data": {
            "text/plain": [
              "[<matplotlib.lines.Line2D at 0x7e6509c95950>]"
            ]
          },
          "metadata": {},
          "execution_count": 17
        },
        {
          "output_type": "display_data",
          "data": {
            "text/plain": [
              "<Figure size 640x480 with 1 Axes>"
            ],
            "image/png": "[encoded data removed]"
          },
          "metadata": {}
        }
      ]
    },
    {
      "cell_type": "code",
      "source": [],
      "metadata": {
        "id": "fEh6YnCaP4kC"
      },
      "execution_count": null,
      "outputs": []
    }
  ]
}