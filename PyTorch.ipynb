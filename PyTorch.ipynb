{
  "nbformat": 4,
  "nbformat_minor": 0,
  "metadata": {
    "colab": {
      "provenance": []
    },
    "kernelspec": {
      "name": "python3",
      "display_name": "Python 3"
    },
    "language_info": {
      "name": "python"
    }
  },
  "cells": [
    {
      "cell_type": "code",
      "execution_count": null,
      "metadata": {
        "id": "UD0o6jozKOPA"
      },
      "outputs": [],
      "source": [
        "import torch"
      ]
    },
    {
      "cell_type": "code",
      "source": [
        "torch.__version__"
      ],
      "metadata": {
        "colab": {
          "base_uri": "https://localhost:8080/",
          "height": 35
        },
        "id": "-45u-zrvKYOQ",
        "outputId": "ee76ec12-6547-49c5-e028-d96ec7ca0b87"
      },
      "execution_count": null,
      "outputs": [
        {
          "output_type": "execute_result",
          "data": {
            "text/plain": [
              "'2.5.1+cu124'"
            ],
            "application/vnd.google.colaboratory.intrinsic+json": {
              "type": "string"
            }
          },
          "metadata": {},
          "execution_count": 54
        }
      ]
    },
    {
      "cell_type": "markdown",
      "source": [
        "Tensors"
      ],
      "metadata": {
        "id": "mHQ8RW71LOh_"
      }
    },
    {
      "cell_type": "markdown",
      "source": [
        "Creating Tensors"
      ],
      "metadata": {
        "id": "Idvodx0cL9zO"
      }
    },
    {
      "cell_type": "code",
      "source": [
        "#scalar - tensor with zero dimension\n",
        "tensor0 = torch.tensor(1)\n",
        "tensor0"
      ],
      "metadata": {
        "colab": {
          "base_uri": "https://localhost:8080/"
        },
        "id": "p5ib42ISKk05",
        "outputId": "49181a7a-02bd-4cbc-cfa5-43b3272211ad"
      },
      "execution_count": null,
      "outputs": [
        {
          "output_type": "execute_result",
          "data": {
            "text/plain": [
              "tensor(1)"
            ]
          },
          "metadata": {},
          "execution_count": 150
        }
      ]
    },
    {
      "cell_type": "code",
      "source": [
        "tensor0.ndim"
      ],
      "metadata": {
        "colab": {
          "base_uri": "https://localhost:8080/"
        },
        "id": "2gsvZk5dMa7K",
        "outputId": "1af03b01-7b19-4ad2-e46d-332d41d729d7"
      },
      "execution_count": null,
      "outputs": [
        {
          "output_type": "execute_result",
          "data": {
            "text/plain": [
              "0"
            ]
          },
          "metadata": {},
          "execution_count": 151
        }
      ]
    },
    {
      "cell_type": "code",
      "source": [
        "#vector - tensor with one dimension\n",
        "tensor1 = torch.tensor([6,8,0,1,2])"
      ],
      "metadata": {
        "id": "snxbBREjMdnG"
      },
      "execution_count": null,
      "outputs": []
    },
    {
      "cell_type": "code",
      "source": [
        "#matrix - tensor with two dimensions\n",
        "tensor2 = torch.tensor([[0,1,7], [4,2,4]])"
      ],
      "metadata": {
        "id": "GRCS8iI-M4ai"
      },
      "execution_count": null,
      "outputs": []
    },
    {
      "cell_type": "code",
      "source": [
        "#dimension and shape of a tensor\n",
        "print(f'vector:\\n{tensor1}\\tNo. of dimensions: {tensor1.ndim}\\tShape: {tensor1.shape}\\n')\n",
        "print(f'matrix:\\n{tensor2}\\tNo. of dimensions: {tensor2.dim()}\\tShape: {tensor2.size()}\\n')"
      ],
      "metadata": {
        "colab": {
          "base_uri": "https://localhost:8080/"
        },
        "id": "Iy7fGnx6NXQr",
        "outputId": "db483992-fe3f-4841-9a19-9cd1ac4d9175"
      },
      "execution_count": null,
      "outputs": [
        {
          "output_type": "stream",
          "name": "stdout",
          "text": [
            "vector:\n",
            "tensor([6, 8, 0, 1, 2])\tNo. of dimensions: 1\tShape: torch.Size([5])\n",
            "\n",
            "matrix:\n",
            "tensor([[0, 1, 7],\n",
            "        [4, 2, 4]])\tNo. of dimensions: 2\tShape: torch.Size([2, 3])\n",
            "\n"
          ]
        }
      ]
    },
    {
      "cell_type": "code",
      "source": [
        "# Alternate ways\n",
        "size = (3, 4)\n",
        "tensor4 = torch.empty(size)\n",
        "tensor4"
      ],
      "metadata": {
        "colab": {
          "base_uri": "https://localhost:8080/"
        },
        "id": "ocS-vFwZOSo2",
        "outputId": "329eb2a8-aad7-4cab-b990-393a881d2887"
      },
      "execution_count": null,
      "outputs": [
        {
          "output_type": "execute_result",
          "data": {
            "text/plain": [
              "tensor([[7.4220e-33, 0.0000e+00, 1.6473e-31, 0.0000e+00],\n",
              "        [1.1210e-43, 0.0000e+00, 8.9683e-44, 0.0000e+00],\n",
              "        [1.3817e-33, 0.0000e+00, 1.4624e-31, 0.0000e+00]])"
            ]
          },
          "metadata": {},
          "execution_count": 153
        }
      ]
    },
    {
      "cell_type": "code",
      "source": [
        "tensor5 = torch.rand(size)\n",
        "tensor5"
      ],
      "metadata": {
        "colab": {
          "base_uri": "https://localhost:8080/"
        },
        "id": "vqciqmPuQXQS",
        "outputId": "d51082b7-2581-4261-df5e-edd8d3d3f47a"
      },
      "execution_count": null,
      "outputs": [
        {
          "output_type": "execute_result",
          "data": {
            "text/plain": [
              "tensor([[0.7630, 0.6453, 0.3751, 0.0444],\n",
              "        [0.7645, 0.8331, 0.2955, 0.9690],\n",
              "        [0.7938, 0.2935, 0.6307, 0.4039]])"
            ]
          },
          "metadata": {},
          "execution_count": 64
        }
      ]
    },
    {
      "cell_type": "code",
      "source": [
        "tensor6 = torch.zeros(size)\n",
        "tensor6"
      ],
      "metadata": {
        "colab": {
          "base_uri": "https://localhost:8080/"
        },
        "id": "RPdUHkY-QiuO",
        "outputId": "35438e23-5bc1-4d17-84e8-36debe79e43d"
      },
      "execution_count": null,
      "outputs": [
        {
          "output_type": "execute_result",
          "data": {
            "text/plain": [
              "tensor([[0., 0., 0., 0.],\n",
              "        [0., 0., 0., 0.],\n",
              "        [0., 0., 0., 0.]])"
            ]
          },
          "metadata": {},
          "execution_count": 154
        }
      ]
    },
    {
      "cell_type": "code",
      "source": [
        "tensor7 = torch.ones(size)\n",
        "tensor7"
      ],
      "metadata": {
        "colab": {
          "base_uri": "https://localhost:8080/"
        },
        "id": "_aZHPuLwQrVO",
        "outputId": "3d2c250f-6a82-4b5f-e5d0-56bf9928ba77"
      },
      "execution_count": null,
      "outputs": [
        {
          "output_type": "execute_result",
          "data": {
            "text/plain": [
              "tensor([[1., 1., 1., 1.],\n",
              "        [1., 1., 1., 1.],\n",
              "        [1., 1., 1., 1.]])"
            ]
          },
          "metadata": {},
          "execution_count": 155
        }
      ]
    },
    {
      "cell_type": "code",
      "source": [
        "# check the datatype of a tensor\n",
        "tensor4 = torch.rand(1, 2)\n",
        "print(tensor4)\n",
        "tensor4.dtype"
      ],
      "metadata": {
        "colab": {
          "base_uri": "https://localhost:8080/"
        },
        "id": "A1eDKDFTQ28O",
        "outputId": "b9eb80b2-eb46-478e-ef4b-b9d8c7bdb50b"
      },
      "execution_count": null,
      "outputs": [
        {
          "output_type": "stream",
          "name": "stdout",
          "text": [
            "tensor([[0.6462, 0.6919]])\n"
          ]
        },
        {
          "output_type": "execute_result",
          "data": {
            "text/plain": [
              "torch.float32"
            ]
          },
          "metadata": {},
          "execution_count": 67
        }
      ]
    },
    {
      "cell_type": "code",
      "source": [
        "# create a tensor with a specific datatype\n",
        "tensor5 = torch.rand(1, 2, dtype=torch.float16)\n",
        "print(tensor5)"
      ],
      "metadata": {
        "colab": {
          "base_uri": "https://localhost:8080/"
        },
        "id": "mX85sJsoRNWF",
        "outputId": "9d34365f-e4ef-49ec-8f27-adc4baeeeb8b"
      },
      "execution_count": null,
      "outputs": [
        {
          "output_type": "stream",
          "name": "stdout",
          "text": [
            "tensor([[0.9150, 0.3042]], dtype=torch.float16)\n"
          ]
        }
      ]
    },
    {
      "cell_type": "code",
      "source": [
        "# changing the datatype of a tensor\n",
        "tensor4.type(torch.double)"
      ],
      "metadata": {
        "id": "Xfdz8AIQRu4d",
        "colab": {
          "base_uri": "https://localhost:8080/"
        },
        "outputId": "79241f4d-76f2-4c5e-9c65-bc2440d6f15c"
      },
      "execution_count": null,
      "outputs": [
        {
          "output_type": "execute_result",
          "data": {
            "text/plain": [
              "tensor([[0.6462, 0.6919]], dtype=torch.float64)"
            ]
          },
          "metadata": {},
          "execution_count": 69
        }
      ]
    },
    {
      "cell_type": "code",
      "source": [
        "## Creating tensors from a numpy array\n",
        "import numpy as np\n",
        "\n",
        "example_array = np.array([[9,3],[0,4]])\n",
        "tensor8 = torch.from_numpy(example_array)\n",
        "\n",
        "tensor9 = torch.tensor(example_array)\n",
        "print(example_array)\n",
        "print(tensor8)\n",
        "print(tensor9)"
      ],
      "metadata": {
        "colab": {
          "base_uri": "https://localhost:8080/"
        },
        "id": "QoDb4jTtcRvv",
        "outputId": "c4ee386f-b00c-47c8-cc1e-43f5062ae2ad"
      },
      "execution_count": null,
      "outputs": [
        {
          "output_type": "stream",
          "name": "stdout",
          "text": [
            "[[9 3]\n",
            " [0 4]]\n",
            "tensor([[9, 3],\n",
            "        [0, 4]])\n",
            "tensor([[9, 3],\n",
            "        [0, 4]])\n"
          ]
        }
      ]
    },
    {
      "cell_type": "code",
      "source": [
        "example_array *= 3\n",
        "print(example_array)\n",
        "print(tensor8)\n",
        "print(tensor9)"
      ],
      "metadata": {
        "colab": {
          "base_uri": "https://localhost:8080/"
        },
        "id": "IOvfmLnCdZcD",
        "outputId": "d5794002-e9c5-4fc6-d889-51456ea08afb"
      },
      "execution_count": null,
      "outputs": [
        {
          "output_type": "stream",
          "name": "stdout",
          "text": [
            "[[27  9]\n",
            " [ 0 12]]\n",
            "tensor([[27,  9],\n",
            "        [ 0, 12]])\n",
            "tensor([[9, 3],\n",
            "        [0, 4]])\n"
          ]
        }
      ]
    },
    {
      "cell_type": "code",
      "source": [
        "## Creating a tensor from another tensor\n",
        "tensor10 = torch.ones_like(tensor8)\n",
        "tensor10\n"
      ],
      "metadata": {
        "colab": {
          "base_uri": "https://localhost:8080/"
        },
        "id": "7HM6j6yJdyHN",
        "outputId": "2a4b8e2f-cff9-421e-9d66-d4cac9768069"
      },
      "execution_count": null,
      "outputs": [
        {
          "output_type": "execute_result",
          "data": {
            "text/plain": [
              "tensor([[1, 1],\n",
              "        [1, 1]])"
            ]
          },
          "metadata": {},
          "execution_count": 72
        }
      ]
    },
    {
      "cell_type": "code",
      "source": [
        "# Device Configuration\n",
        "device = torch.device('cuda' if torch.cuda.is_available() else 'cpu')\n",
        "tensor11 = torch.ones(3,7).to(device) #\"cpu\", \"cuda(gpu)\"\n",
        "tensor11 = torch.zeros(3,7, device=device)"
      ],
      "metadata": {
        "id": "dw9uJ3DzeecT"
      },
      "execution_count": null,
      "outputs": []
    },
    {
      "cell_type": "markdown",
      "source": [
        "##Accessing elements in a tensor"
      ],
      "metadata": {
        "id": "z0BxB2KlgqCt"
      }
    },
    {
      "cell_type": "code",
      "source": [
        "tensor2"
      ],
      "metadata": {
        "colab": {
          "base_uri": "https://localhost:8080/"
        },
        "id": "-9I3OAWWgynS",
        "outputId": "8ef18653-c46e-492a-b1a8-40ffe78140c6"
      },
      "execution_count": null,
      "outputs": [
        {
          "output_type": "execute_result",
          "data": {
            "text/plain": [
              "tensor([[0, 1, 7],\n",
              "        [4, 2, 4]])"
            ]
          },
          "metadata": {},
          "execution_count": 74
        }
      ]
    },
    {
      "cell_type": "code",
      "source": [
        "tensor2.dim()"
      ],
      "metadata": {
        "colab": {
          "base_uri": "https://localhost:8080/"
        },
        "id": "-3OmQdryg3M6",
        "outputId": "f4af9785-bf7a-49d8-c889-58c6836d060d"
      },
      "execution_count": null,
      "outputs": [
        {
          "output_type": "execute_result",
          "data": {
            "text/plain": [
              "2"
            ]
          },
          "metadata": {},
          "execution_count": 157
        }
      ]
    },
    {
      "cell_type": "code",
      "source": [
        "tensor2.size()"
      ],
      "metadata": {
        "colab": {
          "base_uri": "https://localhost:8080/"
        },
        "id": "t3ksKPRCg619",
        "outputId": "65707da9-5348-4905-9af7-05aa0c596381"
      },
      "execution_count": null,
      "outputs": [
        {
          "output_type": "execute_result",
          "data": {
            "text/plain": [
              "torch.Size([2, 3])"
            ]
          },
          "metadata": {},
          "execution_count": 158
        }
      ]
    },
    {
      "cell_type": "code",
      "source": [
        "tensor2[0]"
      ],
      "metadata": {
        "colab": {
          "base_uri": "https://localhost:8080/"
        },
        "id": "ADE43FrehHkX",
        "outputId": "c32dab20-6960-4983-c7dc-ef2507d43e14"
      },
      "execution_count": null,
      "outputs": [
        {
          "output_type": "execute_result",
          "data": {
            "text/plain": [
              "tensor([0, 1, 7])"
            ]
          },
          "metadata": {},
          "execution_count": 159
        }
      ]
    },
    {
      "cell_type": "code",
      "source": [
        "tensor2[1,0] #1st dimension and 0th index"
      ],
      "metadata": {
        "colab": {
          "base_uri": "https://localhost:8080/"
        },
        "id": "MuWz8T93hRd-",
        "outputId": "a21b98de-ebde-4e3a-f180-5c0f730c2d4f"
      },
      "execution_count": null,
      "outputs": [
        {
          "output_type": "execute_result",
          "data": {
            "text/plain": [
              "tensor(4)"
            ]
          },
          "metadata": {},
          "execution_count": 78
        }
      ]
    },
    {
      "cell_type": "code",
      "source": [
        "#Slicing\n",
        "tensor2[:, 2] #this will give us all the rows and only column 2"
      ],
      "metadata": {
        "colab": {
          "base_uri": "https://localhost:8080/"
        },
        "id": "vQ6Ow5zIheGZ",
        "outputId": "05e29285-0b48-4333-a2eb-ee9844303275"
      },
      "execution_count": null,
      "outputs": [
        {
          "output_type": "execute_result",
          "data": {
            "text/plain": [
              "tensor([7, 4])"
            ]
          },
          "metadata": {},
          "execution_count": 79
        }
      ]
    },
    {
      "cell_type": "code",
      "source": [
        "tensor2[0, :] #this will give us only row 0 along with all columns"
      ],
      "metadata": {
        "colab": {
          "base_uri": "https://localhost:8080/"
        },
        "id": "nFskGGrSiL2q",
        "outputId": "80b17add-db16-47e0-944c-614137b5ebca"
      },
      "execution_count": null,
      "outputs": [
        {
          "output_type": "execute_result",
          "data": {
            "text/plain": [
              "tensor([0, 1, 7])"
            ]
          },
          "metadata": {},
          "execution_count": 80
        }
      ]
    },
    {
      "cell_type": "markdown",
      "source": [
        "### Basic Tensor Operations"
      ],
      "metadata": {
        "id": "-hVmFaYEimP-"
      }
    },
    {
      "cell_type": "code",
      "source": [
        "tensor12 = torch.ones(2,3)\n",
        "tensor13 = torch.rand(2,3)\n",
        "\n",
        "print(tensor12)\n",
        "print(tensor13)"
      ],
      "metadata": {
        "colab": {
          "base_uri": "https://localhost:8080/"
        },
        "id": "fhtD3rDgifJh",
        "outputId": "5414013d-777c-41d0-ea7e-f504bfdbabc6"
      },
      "execution_count": null,
      "outputs": [
        {
          "output_type": "stream",
          "name": "stdout",
          "text": [
            "tensor([[1., 1., 1.],\n",
            "        [1., 1., 1.]])\n",
            "tensor([[0.3360, 0.5464, 0.0357],\n",
            "        [0.5140, 0.2192, 0.3393]])\n"
          ]
        }
      ]
    },
    {
      "cell_type": "code",
      "source": [
        "#Elementwise Addition\n",
        "tensor14 = tensor12 + tensor13\n",
        "# torch.add(tensor12, tensor13)\n",
        "print(tensor14)\n",
        "\n",
        "# Elementwise Subtraction\n",
        "tensor15 = tensor12 - tensor13\n",
        "# torch.sub(tensor12, tensor13)\n",
        "print(tensor15)\n",
        "\n",
        "# Elementwise Multiplication\n",
        "tensor16 = tensor12 * tensor13\n",
        "# torch.mul(tensor12, tensor13)\n",
        "print(tensor16)\n",
        "\n",
        "# Elementwise Division\n",
        "tensor17 = tensor12 / tensor12\n",
        "# torch.div(tensor12, tensor12)\n",
        "print(tensor17)"
      ],
      "metadata": {
        "colab": {
          "base_uri": "https://localhost:8080/"
        },
        "id": "LOaqNxVni9FM",
        "outputId": "d091eefd-8b9d-49d6-a410-ac3d30e01a1c"
      },
      "execution_count": null,
      "outputs": [
        {
          "output_type": "stream",
          "name": "stdout",
          "text": [
            "tensor([[1.3360, 1.5464, 1.0357],\n",
            "        [1.5140, 1.2192, 1.3393]])\n",
            "tensor([[0.6640, 0.4536, 0.9643],\n",
            "        [0.4860, 0.7808, 0.6607]])\n",
            "tensor([[0.3360, 0.5464, 0.0357],\n",
            "        [0.5140, 0.2192, 0.3393]])\n",
            "tensor([[1., 1., 1.],\n",
            "        [1., 1., 1.]])\n"
          ]
        }
      ]
    },
    {
      "cell_type": "markdown",
      "source": [
        "##Manipulating a tensor"
      ],
      "metadata": {
        "id": "BMvgRQxmlCzF"
      }
    },
    {
      "cell_type": "code",
      "source": [
        "x = torch.randint(0,3,(4,5)) # 0,3 is the no range and 4,5 is no of rows and columns\n",
        "x"
      ],
      "metadata": {
        "colab": {
          "base_uri": "https://localhost:8080/"
        },
        "id": "4_9VAeiKjjzQ",
        "outputId": "94fbc88e-250d-4cb8-a986-21b5b4c7274f"
      },
      "execution_count": null,
      "outputs": [
        {
          "output_type": "execute_result",
          "data": {
            "text/plain": [
              "tensor([[0, 1, 2, 1, 0],\n",
              "        [0, 1, 1, 2, 1],\n",
              "        [1, 2, 2, 1, 0],\n",
              "        [0, 1, 0, 2, 1]])"
            ]
          },
          "metadata": {},
          "execution_count": 83
        }
      ]
    },
    {
      "cell_type": "code",
      "source": [
        "y = x.view(20)\n",
        "z = x.view(-1, 10)\n",
        "print(x.size(), y.size(), z.size())"
      ],
      "metadata": {
        "colab": {
          "base_uri": "https://localhost:8080/"
        },
        "id": "nz8F4KJgljj1",
        "outputId": "7a27527a-d6a5-4fec-9720-3b9fd5a544f7"
      },
      "execution_count": null,
      "outputs": [
        {
          "output_type": "stream",
          "name": "stdout",
          "text": [
            "torch.Size([4, 5]) torch.Size([20]) torch.Size([2, 10])\n"
          ]
        }
      ]
    },
    {
      "cell_type": "code",
      "source": [
        "a = torch.arange(9) # creates 1 dimension from 0 to 8\n",
        "a = a.reshape(3,3)\n",
        "a"
      ],
      "metadata": {
        "colab": {
          "base_uri": "https://localhost:8080/"
        },
        "id": "RGrBhVdRmsjp",
        "outputId": "2f0d4835-f077-438c-8041-409149ae38e1"
      },
      "execution_count": null,
      "outputs": [
        {
          "output_type": "execute_result",
          "data": {
            "text/plain": [
              "tensor([[0, 1, 2],\n",
              "        [3, 4, 5],\n",
              "        [6, 7, 8]])"
            ]
          },
          "metadata": {},
          "execution_count": 85
        }
      ]
    },
    {
      "cell_type": "code",
      "source": [
        "b = torch.randint(0,9,(3,3)) # torch.randint(low=0, high, size)\n",
        "b"
      ],
      "metadata": {
        "colab": {
          "base_uri": "https://localhost:8080/"
        },
        "id": "r5qNDOxjnxSw",
        "outputId": "136578b2-cc55-4e1b-947f-78cb9515a23a"
      },
      "execution_count": null,
      "outputs": [
        {
          "output_type": "execute_result",
          "data": {
            "text/plain": [
              "tensor([[8, 7, 2],\n",
              "        [2, 0, 2],\n",
              "        [0, 7, 6]])"
            ]
          },
          "metadata": {},
          "execution_count": 86
        }
      ]
    },
    {
      "cell_type": "code",
      "source": [
        "c = torch.cat((a,b), dim=1) # concatenating both tensor a & b\n",
        "c"
      ],
      "metadata": {
        "colab": {
          "base_uri": "https://localhost:8080/"
        },
        "id": "42rhTPKuoMMA",
        "outputId": "9fa207a3-1375-4f09-bf98-77da366edbb7"
      },
      "execution_count": null,
      "outputs": [
        {
          "output_type": "execute_result",
          "data": {
            "text/plain": [
              "tensor([[0, 1, 2, 8, 7, 2],\n",
              "        [3, 4, 5, 2, 0, 2],\n",
              "        [6, 7, 8, 0, 7, 6]])"
            ]
          },
          "metadata": {},
          "execution_count": 87
        }
      ]
    },
    {
      "cell_type": "code",
      "source": [
        "d = torch.cat((a,b), dim=0) # concatenatin will be one below another\n",
        "d"
      ],
      "metadata": {
        "colab": {
          "base_uri": "https://localhost:8080/"
        },
        "id": "vZdj0K9xoizR",
        "outputId": "42710bfb-a65a-4219-95f9-963d125cab12"
      },
      "execution_count": null,
      "outputs": [
        {
          "output_type": "execute_result",
          "data": {
            "text/plain": [
              "tensor([[0, 1, 2],\n",
              "        [3, 4, 5],\n",
              "        [6, 7, 8],\n",
              "        [8, 7, 2],\n",
              "        [2, 0, 2],\n",
              "        [0, 7, 6]])"
            ]
          },
          "metadata": {},
          "execution_count": 88
        }
      ]
    },
    {
      "cell_type": "code",
      "source": [
        "a"
      ],
      "metadata": {
        "colab": {
          "base_uri": "https://localhost:8080/"
        },
        "id": "xL53A8sVpiCY",
        "outputId": "0bdb2139-927f-4ade-ace0-000d8b40cb0e"
      },
      "execution_count": null,
      "outputs": [
        {
          "output_type": "execute_result",
          "data": {
            "text/plain": [
              "tensor([[0, 1, 2],\n",
              "        [3, 4, 5],\n",
              "        [6, 7, 8]])"
            ]
          },
          "metadata": {},
          "execution_count": 89
        }
      ]
    },
    {
      "cell_type": "code",
      "source": [
        "p = torch.randint(0,9,(2,3,5)) # 2 matrices, 3 rows and 5 columns\n",
        "p"
      ],
      "metadata": {
        "colab": {
          "base_uri": "https://localhost:8080/"
        },
        "id": "QG5Poi7epyQT",
        "outputId": "39a2dad5-fc89-427f-b99e-72036425cdad"
      },
      "execution_count": null,
      "outputs": [
        {
          "output_type": "execute_result",
          "data": {
            "text/plain": [
              "tensor([[[2, 8, 4, 6, 5],\n",
              "         [5, 2, 0, 7, 6],\n",
              "         [2, 2, 5, 1, 7]],\n",
              "\n",
              "        [[2, 1, 5, 7, 7],\n",
              "         [0, 6, 5, 1, 8],\n",
              "         [6, 6, 4, 0, 8]]])"
            ]
          },
          "metadata": {},
          "execution_count": 90
        }
      ]
    },
    {
      "cell_type": "code",
      "source": [
        "p.sum()"
      ],
      "metadata": {
        "colab": {
          "base_uri": "https://localhost:8080/"
        },
        "id": "PBW0KWwJqFZK",
        "outputId": "42e6d534-bfd2-4914-b30b-42b9a9125f8e"
      },
      "execution_count": null,
      "outputs": [
        {
          "output_type": "execute_result",
          "data": {
            "text/plain": [
              "tensor(128)"
            ]
          },
          "metadata": {},
          "execution_count": 91
        }
      ]
    },
    {
      "cell_type": "code",
      "source": [
        "p.sum(dim=0)"
      ],
      "metadata": {
        "colab": {
          "base_uri": "https://localhost:8080/"
        },
        "id": "oZ16vxuUqpj0",
        "outputId": "1530cb28-8460-4385-a4e4-fb842f1c92dc"
      },
      "execution_count": null,
      "outputs": [
        {
          "output_type": "execute_result",
          "data": {
            "text/plain": [
              "tensor([[ 4,  9,  9, 13, 12],\n",
              "        [ 5,  8,  5,  8, 14],\n",
              "        [ 8,  8,  9,  1, 15]])"
            ]
          },
          "metadata": {},
          "execution_count": 92
        }
      ]
    },
    {
      "cell_type": "code",
      "source": [
        "p.sum(dim=0).shape"
      ],
      "metadata": {
        "colab": {
          "base_uri": "https://localhost:8080/"
        },
        "id": "SeVI5EffrSI2",
        "outputId": "decf00b3-3373-4af7-f885-6ee7443b1f64"
      },
      "execution_count": null,
      "outputs": [
        {
          "output_type": "execute_result",
          "data": {
            "text/plain": [
              "torch.Size([3, 5])"
            ]
          },
          "metadata": {},
          "execution_count": 93
        }
      ]
    },
    {
      "cell_type": "code",
      "source": [
        "p"
      ],
      "metadata": {
        "colab": {
          "base_uri": "https://localhost:8080/"
        },
        "id": "LRt7r_pIrtKN",
        "outputId": "a61a00e4-b714-4833-aa0f-278d513cbba9"
      },
      "execution_count": null,
      "outputs": [
        {
          "output_type": "execute_result",
          "data": {
            "text/plain": [
              "tensor([[[2, 8, 4, 6, 5],\n",
              "         [5, 2, 0, 7, 6],\n",
              "         [2, 2, 5, 1, 7]],\n",
              "\n",
              "        [[2, 1, 5, 7, 7],\n",
              "         [0, 6, 5, 1, 8],\n",
              "         [6, 6, 4, 0, 8]]])"
            ]
          },
          "metadata": {},
          "execution_count": 94
        }
      ]
    },
    {
      "cell_type": "code",
      "source": [
        "p.sum(dim=1) # adding the metrices rows and columns"
      ],
      "metadata": {
        "colab": {
          "base_uri": "https://localhost:8080/"
        },
        "id": "rOWXMq4srv3u",
        "outputId": "2b19ac89-e441-4870-df07-0231cfdd6430"
      },
      "execution_count": null,
      "outputs": [
        {
          "output_type": "execute_result",
          "data": {
            "text/plain": [
              "tensor([[ 9, 12,  9, 14, 18],\n",
              "        [ 8, 13, 14,  8, 23]])"
            ]
          },
          "metadata": {},
          "execution_count": 95
        }
      ]
    },
    {
      "cell_type": "code",
      "source": [
        "p.sum(dim=1).shape"
      ],
      "metadata": {
        "colab": {
          "base_uri": "https://localhost:8080/"
        },
        "id": "uXTl7aN9tH2u",
        "outputId": "cae2cfa8-4949-4f75-f7bb-0431dd018074"
      },
      "execution_count": null,
      "outputs": [
        {
          "output_type": "execute_result",
          "data": {
            "text/plain": [
              "torch.Size([2, 5])"
            ]
          },
          "metadata": {},
          "execution_count": 96
        }
      ]
    },
    {
      "cell_type": "code",
      "source": [
        "p.sum(dim=2) # adding each rows fully"
      ],
      "metadata": {
        "colab": {
          "base_uri": "https://localhost:8080/"
        },
        "id": "2talwpxNtqF5",
        "outputId": "9bba6c04-4c40-43df-e798-fc048b08d5aa"
      },
      "execution_count": null,
      "outputs": [
        {
          "output_type": "execute_result",
          "data": {
            "text/plain": [
              "tensor([[25, 20, 17],\n",
              "        [22, 20, 24]])"
            ]
          },
          "metadata": {},
          "execution_count": 97
        }
      ]
    },
    {
      "cell_type": "code",
      "source": [
        "p.sum(dim=2).shape"
      ],
      "metadata": {
        "colab": {
          "base_uri": "https://localhost:8080/"
        },
        "id": "UHuogKuOuEHx",
        "outputId": "e6b9eef9-44c8-41a2-a540-717c9025a8e2"
      },
      "execution_count": null,
      "outputs": [
        {
          "output_type": "execute_result",
          "data": {
            "text/plain": [
              "torch.Size([2, 3])"
            ]
          },
          "metadata": {},
          "execution_count": 98
        }
      ]
    },
    {
      "cell_type": "code",
      "source": [
        "import torch\n",
        "x = torch.tensor(2.0)\n",
        "x.requires_grad,x.is_leaf"
      ],
      "metadata": {
        "colab": {
          "base_uri": "https://localhost:8080/"
        },
        "id": "BLpD_JFnuOrF",
        "outputId": "c412f734-2ae0-406a-94eb-786a54912476"
      },
      "execution_count": null,
      "outputs": [
        {
          "output_type": "execute_result",
          "data": {
            "text/plain": [
              "(False, True)"
            ]
          },
          "metadata": {},
          "execution_count": 99
        }
      ]
    },
    {
      "cell_type": "code",
      "source": [
        "y = 3 * torch.sigmoid(x) + 5\n",
        "y.requires_grad, y.is_leaf"
      ],
      "metadata": {
        "colab": {
          "base_uri": "https://localhost:8080/"
        },
        "id": "P7cS2Zq_uyMx",
        "outputId": "5bd6dc75-3df2-4596-ee20-20f4fe5f43c6"
      },
      "execution_count": null,
      "outputs": [
        {
          "output_type": "execute_result",
          "data": {
            "text/plain": [
              "(False, True)"
            ]
          },
          "metadata": {},
          "execution_count": 100
        }
      ]
    },
    {
      "cell_type": "code",
      "source": [
        "import torch\n",
        "x=torch.tensor(2.0, requires_grad=True)\n",
        "x.requires_grad, x.is_leaf"
      ],
      "metadata": {
        "colab": {
          "base_uri": "https://localhost:8080/"
        },
        "id": "AanUb5VIJhRj",
        "outputId": "d45c5c7d-8fc9-4cdd-dd5d-b28d451fd0bc"
      },
      "execution_count": null,
      "outputs": [
        {
          "output_type": "execute_result",
          "data": {
            "text/plain": [
              "(True, True)"
            ]
          },
          "metadata": {},
          "execution_count": 101
        }
      ]
    },
    {
      "cell_type": "code",
      "source": [
        "y = 3*torch.sigmoid(x) + 5\n",
        "y\n"
      ],
      "metadata": {
        "colab": {
          "base_uri": "https://localhost:8080/"
        },
        "id": "MvJv9EWGKBDh",
        "outputId": "7c211b49-497f-484f-837d-3b10956966e3"
      },
      "execution_count": null,
      "outputs": [
        {
          "output_type": "execute_result",
          "data": {
            "text/plain": [
              "tensor(7.6424, grad_fn=<AddBackward0>)"
            ]
          },
          "metadata": {},
          "execution_count": 104
        }
      ]
    },
    {
      "cell_type": "code",
      "source": [
        "y.requires_grad, y.is_leaf"
      ],
      "metadata": {
        "colab": {
          "base_uri": "https://localhost:8080/"
        },
        "id": "nxlb1f7zKvUc",
        "outputId": "d7e0b291-69d8-41af-e844-2df38f7ae427"
      },
      "execution_count": null,
      "outputs": [
        {
          "output_type": "execute_result",
          "data": {
            "text/plain": [
              "(True, False)"
            ]
          },
          "metadata": {},
          "execution_count": 105
        }
      ]
    },
    {
      "cell_type": "code",
      "source": [
        "print(x.grad_fn)"
      ],
      "metadata": {
        "colab": {
          "base_uri": "https://localhost:8080/"
        },
        "id": "aeE5LndLK9fx",
        "outputId": "00c0afd9-3564-4f87-b14d-f8de42221598"
      },
      "execution_count": null,
      "outputs": [
        {
          "output_type": "stream",
          "name": "stdout",
          "text": [
            "None\n"
          ]
        }
      ]
    },
    {
      "cell_type": "code",
      "source": [
        "print(y.grad_fn)"
      ],
      "metadata": {
        "colab": {
          "base_uri": "https://localhost:8080/"
        },
        "id": "7hHXWwyhLGRN",
        "outputId": "6b2886f6-9b2c-4ba4-a39e-f5fbe14dc40a"
      },
      "execution_count": null,
      "outputs": [
        {
          "output_type": "stream",
          "name": "stdout",
          "text": [
            "<AddBackward0 object at 0x7f5d237186d0>\n"
          ]
        }
      ]
    },
    {
      "cell_type": "code",
      "source": [
        "print(x.grad)\n",
        "y.backward()\n",
        "print(x.grad)"
      ],
      "metadata": {
        "colab": {
          "base_uri": "https://localhost:8080/"
        },
        "id": "CuE24xL1LMY4",
        "outputId": "258fc14e-0063-4832-f3b8-57416e145519"
      },
      "execution_count": null,
      "outputs": [
        {
          "output_type": "stream",
          "name": "stdout",
          "text": [
            "None\n",
            "tensor(0.3150)\n"
          ]
        }
      ]
    },
    {
      "cell_type": "code",
      "source": [
        "# Gradient will be set to zero each time and it will not accumulated\n",
        "x.grad.zero_()\n",
        "# Gradient gets accumulated at each step\n",
        "y = 3*torch.sigmoid(x) + 5\n",
        "y.backward()\n",
        "x.grad"
      ],
      "metadata": {
        "colab": {
          "base_uri": "https://localhost:8080/"
        },
        "id": "cBgElKD8LfaC",
        "outputId": "f3490cb0-1ff9-437f-a87b-ce12c112accd"
      },
      "execution_count": null,
      "outputs": [
        {
          "output_type": "execute_result",
          "data": {
            "text/plain": [
              "tensor(0.3150)"
            ]
          },
          "metadata": {},
          "execution_count": 112
        }
      ]
    },
    {
      "cell_type": "code",
      "source": [
        "a = torch.rand(2,5, requires_grad=True)\n",
        "a"
      ],
      "metadata": {
        "colab": {
          "base_uri": "https://localhost:8080/"
        },
        "id": "dxcIoTGGL4bc",
        "outputId": "27cef4bd-e6f2-4993-aff4-b75bcf7c7737"
      },
      "execution_count": null,
      "outputs": [
        {
          "output_type": "execute_result",
          "data": {
            "text/plain": [
              "tensor([[0.7335, 0.1549, 0.5086, 0.0525, 0.8772],\n",
              "        [0.8590, 0.9641, 0.7677, 0.8595, 0.1074]], requires_grad=True)"
            ]
          },
          "metadata": {},
          "execution_count": 113
        }
      ]
    },
    {
      "cell_type": "code",
      "source": [
        "b = a * a + a + 5\n",
        "b"
      ],
      "metadata": {
        "colab": {
          "base_uri": "https://localhost:8080/"
        },
        "id": "G3Hly9OvM3tF",
        "outputId": "e95fa746-871a-40b1-f9af-4946a94666e0"
      },
      "execution_count": null,
      "outputs": [
        {
          "output_type": "execute_result",
          "data": {
            "text/plain": [
              "tensor([[6.2715, 5.1789, 5.7673, 5.0553, 6.6466],\n",
              "        [6.5969, 6.8935, 6.3571, 6.5983, 5.1189]], grad_fn=<AddBackward0>)"
            ]
          },
          "metadata": {},
          "execution_count": 114
        }
      ]
    },
    {
      "cell_type": "code",
      "source": [
        "c = b.mean()\n",
        "c"
      ],
      "metadata": {
        "colab": {
          "base_uri": "https://localhost:8080/"
        },
        "id": "HC_08EUNNHyh",
        "outputId": "d25286ef-9898-4b44-fcab-ea22119944cd"
      },
      "execution_count": null,
      "outputs": [
        {
          "output_type": "execute_result",
          "data": {
            "text/plain": [
              "tensor(6.0484, grad_fn=<MeanBackward0>)"
            ]
          },
          "metadata": {},
          "execution_count": 116
        }
      ]
    },
    {
      "cell_type": "code",
      "source": [
        "a.is_leaf, b.is_leaf, c.is_leaf"
      ],
      "metadata": {
        "colab": {
          "base_uri": "https://localhost:8080/"
        },
        "id": "L94Bf1dmNLHL",
        "outputId": "bb412303-fbc0-46a9-998a-79a186a1c2ea"
      },
      "execution_count": null,
      "outputs": [
        {
          "output_type": "execute_result",
          "data": {
            "text/plain": [
              "(True, False, False)"
            ]
          },
          "metadata": {},
          "execution_count": 117
        }
      ]
    },
    {
      "cell_type": "code",
      "source": [
        "b.retain_grad()"
      ],
      "metadata": {
        "id": "FLdx8ph7NWm1"
      },
      "execution_count": null,
      "outputs": []
    },
    {
      "cell_type": "code",
      "source": [
        "print(a.grad) # Before gradient computation\n",
        "c.backward()\n",
        "print(a.grad) # After gradient computation #dc/da"
      ],
      "metadata": {
        "colab": {
          "base_uri": "https://localhost:8080/"
        },
        "id": "tX_SMYF9NmXR",
        "outputId": "91681caf-7adf-4fc4-f28b-31faf4295040"
      },
      "execution_count": null,
      "outputs": [
        {
          "output_type": "stream",
          "name": "stdout",
          "text": [
            "None\n",
            "tensor([[0.2467, 0.1310, 0.2017, 0.1105, 0.2754],\n",
            "        [0.2718, 0.2928, 0.2535, 0.2719, 0.1215]])\n"
          ]
        }
      ]
    },
    {
      "cell_type": "code",
      "source": [
        "b.grad"
      ],
      "metadata": {
        "colab": {
          "base_uri": "https://localhost:8080/"
        },
        "id": "CVLS-RdyODpA",
        "outputId": "e2efb1db-04f4-466a-b9b9-a4adc826c7ab"
      },
      "execution_count": null,
      "outputs": [
        {
          "output_type": "execute_result",
          "data": {
            "text/plain": [
              "tensor([[0.1000, 0.1000, 0.1000, 0.1000, 0.1000],\n",
              "        [0.1000, 0.1000, 0.1000, 0.1000, 0.1000]])"
            ]
          },
          "metadata": {},
          "execution_count": 121
        }
      ]
    },
    {
      "cell_type": "markdown",
      "source": [
        "## Gradient Descent"
      ],
      "metadata": {
        "id": "7MG8_cD-OVjD"
      }
    },
    {
      "cell_type": "code",
      "source": [
        "# Generate train data # y = 5 * x + 3\n",
        "# torch.linspace(start, end, steps): Generates steps equally spaced values between start and end\n",
        "x = torch.linspace(0.0, 1.0, 15).reshape(15, 1) # Create `x` values: 15 evenly spaced points between 0.0 and 1.0\n",
        "w = torch.tensor([5]) # Weight (slope)\n",
        "b = torch.tensor([3]) # Bias (intercept)\n",
        "y = w * x + b"
      ],
      "metadata": {
        "id": "n2LzEvAYOK_v"
      },
      "execution_count": null,
      "outputs": []
    },
    {
      "cell_type": "code",
      "source": [
        "# Parameter Initialization | The shape (1,1) means both w and b are scalars stored as 1x1 tensors.\n",
        "w = torch.randn(size=(1,1), requires_grad=True)\n",
        "b = torch.randn(size=(1,1), requires_grad=True)\n",
        "\n",
        "def forward(x):\n",
        "  return w * x + b\n",
        "\n",
        "def loss(y, y_pred):\n",
        "  return ((y_pred - y)**2).mean()\n",
        "\n",
        "print('w:', w)\n",
        "print('b:', b)"
      ],
      "metadata": {
        "colab": {
          "base_uri": "https://localhost:8080/"
        },
        "id": "fHf6DzpZSKKP",
        "outputId": "9b28980f-d5a8-4286-b8a1-e8aa494726df"
      },
      "execution_count": null,
      "outputs": [
        {
          "output_type": "stream",
          "name": "stdout",
          "text": [
            "w: tensor([[1.8315]], requires_grad=True)\n",
            "b: tensor([[-0.9373]], requires_grad=True)\n"
          ]
        }
      ]
    },
    {
      "cell_type": "code",
      "source": [
        "# Define hyperparameters\n",
        "learning_rate = 0.03\n",
        "num_epochs = 180\n",
        "\n",
        "# Train the model\n",
        "for epoch in range(num_epochs):\n",
        "  y_pred = forward(x)\n",
        "\n",
        "  l = loss(y, y_pred)\n",
        "\n",
        "  l.backward()\n",
        "\n",
        "  with torch.no_grad():\n",
        "    w -=learning_rate * w.grad\n",
        "    b -=learning_rate * b.grad\n",
        "\n",
        "  w.grad.zero_()\n",
        "  b.grad.zero_()\n",
        "\n",
        "  if (epoch+1) % 10 == 0:\n",
        "    print(f'epoch{epoch+1}: w = {w.item():.3f}, b = {b.item():.3f}, loss = {l.item():.3f}')\n"
      ],
      "metadata": {
        "colab": {
          "base_uri": "https://localhost:8080/"
        },
        "id": "iVTN-MdTTz5y",
        "outputId": "3b76cb71-0ffc-4987-fba0-09d546411217"
      },
      "execution_count": null,
      "outputs": [
        {
          "output_type": "stream",
          "name": "stdout",
          "text": [
            "epoch10: w = 4.658, b = 3.185, loss = 0.011\n",
            "epoch20: w = 4.673, b = 3.177, loss = 0.010\n",
            "epoch30: w = 4.688, b = 3.169, loss = 0.010\n",
            "epoch40: w = 4.701, b = 3.161, loss = 0.009\n",
            "epoch50: w = 4.715, b = 3.154, loss = 0.008\n",
            "epoch60: w = 4.727, b = 3.147, loss = 0.007\n",
            "epoch70: w = 4.739, b = 3.141, loss = 0.007\n",
            "epoch80: w = 4.751, b = 3.135, loss = 0.006\n",
            "epoch90: w = 4.762, b = 3.129, loss = 0.006\n",
            "epoch100: w = 4.772, b = 3.123, loss = 0.005\n",
            "epoch110: w = 4.782, b = 3.118, loss = 0.005\n",
            "epoch120: w = 4.792, b = 3.113, loss = 0.004\n",
            "epoch130: w = 4.801, b = 3.108, loss = 0.004\n",
            "epoch140: w = 4.810, b = 3.103, loss = 0.004\n",
            "epoch150: w = 4.818, b = 3.098, loss = 0.003\n",
            "epoch160: w = 4.826, b = 3.094, loss = 0.003\n",
            "epoch170: w = 4.834, b = 3.090, loss = 0.003\n",
            "epoch180: w = 4.841, b = 3.086, loss = 0.002\n"
          ]
        }
      ]
    },
    {
      "cell_type": "markdown",
      "source": [
        "## Neural Networks"
      ],
      "metadata": {
        "id": "5CabITq_Xy8R"
      }
    },
    {
      "cell_type": "code",
      "source": [
        "import torch\n",
        "import torch.nn as nn\n",
        "# import torch.nn.functional as F\n",
        "import torch.optim as optim\n",
        "\n",
        "from torchvision import datasets, transforms"
      ],
      "metadata": {
        "id": "M0kLYbM9VpJs"
      },
      "execution_count": null,
      "outputs": []
    },
    {
      "cell_type": "code",
      "source": [
        "device = torch.device('cuda' if torch.cuda.is_available() else 'cpu')"
      ],
      "metadata": {
        "id": "ZxR5UlVDZnzn"
      },
      "execution_count": null,
      "outputs": []
    },
    {
      "cell_type": "code",
      "source": [
        "print(dir(datasets))"
      ],
      "metadata": {
        "colab": {
          "base_uri": "https://localhost:8080/"
        },
        "id": "iaTDcpLQaEzw",
        "outputId": "29839849-af08-4bd6-cbd3-d19388c18b8c"
      },
      "execution_count": null,
      "outputs": [
        {
          "output_type": "stream",
          "name": "stdout",
          "text": [
            "['CIFAR10', 'CIFAR100', 'CLEVRClassification', 'CREStereo', 'Caltech101', 'Caltech256', 'CarlaStereo', 'CelebA', 'Cityscapes', 'CocoCaptions', 'CocoDetection', 'Country211', 'DTD', 'DatasetFolder', 'EMNIST', 'ETH3DStereo', 'EuroSAT', 'FER2013', 'FGVCAircraft', 'FakeData', 'FallingThingsStereo', 'FashionMNIST', 'Flickr30k', 'Flickr8k', 'Flowers102', 'FlyingChairs', 'FlyingThings3D', 'Food101', 'GTSRB', 'HD1K', 'HMDB51', 'INaturalist', 'ImageFolder', 'ImageNet', 'Imagenette', 'InStereo2k', 'KMNIST', 'Kinetics', 'Kitti', 'Kitti2012Stereo', 'Kitti2015Stereo', 'KittiFlow', 'LFWPairs', 'LFWPeople', 'LSUN', 'LSUNClass', 'MNIST', 'Middlebury2014Stereo', 'MovingMNIST', 'Omniglot', 'OxfordIIITPet', 'PCAM', 'PhotoTour', 'Places365', 'QMNIST', 'RenderedSST2', 'SBDataset', 'SBU', 'SEMEION', 'STL10', 'SUN397', 'SVHN', 'SceneFlowStereo', 'Sintel', 'SintelStereo', 'StanfordCars', 'UCF101', 'USPS', 'VOCDetection', 'VOCSegmentation', 'VisionDataset', 'WIDERFace', '__all__', '__builtins__', '__cached__', '__doc__', '__file__', '__getattr__', '__loader__', '__name__', '__package__', '__path__', '__spec__', '_optical_flow', '_stereo_matching', 'caltech', 'celeba', 'cifar', 'cityscapes', 'clevr', 'coco', 'country211', 'dtd', 'eurosat', 'fakedata', 'fer2013', 'fgvc_aircraft', 'flickr', 'flowers102', 'folder', 'food101', 'gtsrb', 'hmdb51', 'imagenet', 'imagenette', 'inaturalist', 'kinetics', 'kitti', 'lfw', 'lsun', 'mnist', 'moving_mnist', 'omniglot', 'oxford_iiit_pet', 'pcam', 'phototour', 'places365', 'rendered_sst2', 'sbd', 'sbu', 'semeion', 'stanford_cars', 'stl10', 'sun397', 'svhn', 'ucf101', 'usps', 'utils', 'video_utils', 'vision', 'voc', 'widerface']\n"
          ]
        }
      ]
    },
    {
      "cell_type": "code",
      "source": [
        "## Hyper-parameters\n",
        "hidden_size = 400\n",
        "num_epochs = 8\n",
        "batch_size = 32\n",
        "learning_rate = 0.0001"
      ],
      "metadata": {
        "id": "pOgC3BeYaKNp"
      },
      "execution_count": null,
      "outputs": []
    },
    {
      "cell_type": "code",
      "source": [
        "## Load the MNIST dataset\n",
        "train_dataset = datasets.MNIST(root='./data', train=True, download=True, transform=transforms.ToTensor())\n",
        "test_dataset = datasets.MNIST(root='./data', train=False, download=True, transform=transforms.ToTensor())"
      ],
      "metadata": {
        "colab": {
          "base_uri": "https://localhost:8080/"
        },
        "id": "aWwzv8ABaux8",
        "outputId": "90e0781f-0d03-4c69-8244-4b9de83e71af"
      },
      "execution_count": null,
      "outputs": [
        {
          "output_type": "stream",
          "name": "stdout",
          "text": [
            "Downloading http://yann.lecun.com/exdb/mnist/train-images-idx3-ubyte.gz\n",
            "Failed to download (trying next):\n",
            "HTTP Error 404: Not Found\n",
            "\n",
            "Downloading https://ossci-datasets.s3.amazonaws.com/mnist/train-images-idx3-ubyte.gz\n",
            "Downloading https://ossci-datasets.s3.amazonaws.com/mnist/train-images-idx3-ubyte.gz to ./data/MNIST/raw/train-images-idx3-ubyte.gz\n"
          ]
        },
        {
          "output_type": "stream",
          "name": "stderr",
          "text": [
            "100%|██████████| 9.91M/9.91M [00:00<00:00, 17.8MB/s]\n"
          ]
        },
        {
          "output_type": "stream",
          "name": "stdout",
          "text": [
            "Extracting ./data/MNIST/raw/train-images-idx3-ubyte.gz to ./data/MNIST/raw\n",
            "\n",
            "Downloading http://yann.lecun.com/exdb/mnist/train-labels-idx1-ubyte.gz\n",
            "Failed to download (trying next):\n",
            "HTTP Error 404: Not Found\n",
            "\n",
            "Downloading https://ossci-datasets.s3.amazonaws.com/mnist/train-labels-idx1-ubyte.gz\n",
            "Downloading https://ossci-datasets.s3.amazonaws.com/mnist/train-labels-idx1-ubyte.gz to ./data/MNIST/raw/train-labels-idx1-ubyte.gz\n"
          ]
        },
        {
          "output_type": "stream",
          "name": "stderr",
          "text": [
            "100%|██████████| 28.9k/28.9k [00:00<00:00, 489kB/s]\n"
          ]
        },
        {
          "output_type": "stream",
          "name": "stdout",
          "text": [
            "Extracting ./data/MNIST/raw/train-labels-idx1-ubyte.gz to ./data/MNIST/raw\n",
            "\n",
            "Downloading http://yann.lecun.com/exdb/mnist/t10k-images-idx3-ubyte.gz\n",
            "Failed to download (trying next):\n",
            "HTTP Error 404: Not Found\n",
            "\n",
            "Downloading https://ossci-datasets.s3.amazonaws.com/mnist/t10k-images-idx3-ubyte.gz\n",
            "Downloading https://ossci-datasets.s3.amazonaws.com/mnist/t10k-images-idx3-ubyte.gz to ./data/MNIST/raw/t10k-images-idx3-ubyte.gz\n"
          ]
        },
        {
          "output_type": "stream",
          "name": "stderr",
          "text": [
            "100%|██████████| 1.65M/1.65M [00:00<00:00, 3.92MB/s]\n"
          ]
        },
        {
          "output_type": "stream",
          "name": "stdout",
          "text": [
            "Extracting ./data/MNIST/raw/t10k-images-idx3-ubyte.gz to ./data/MNIST/raw\n",
            "\n",
            "Downloading http://yann.lecun.com/exdb/mnist/t10k-labels-idx1-ubyte.gz\n",
            "Failed to download (trying next):\n",
            "HTTP Error 404: Not Found\n",
            "\n",
            "Downloading https://ossci-datasets.s3.amazonaws.com/mnist/t10k-labels-idx1-ubyte.gz\n",
            "Downloading https://ossci-datasets.s3.amazonaws.com/mnist/t10k-labels-idx1-ubyte.gz to ./data/MNIST/raw/t10k-labels-idx1-ubyte.gz\n"
          ]
        },
        {
          "output_type": "stream",
          "name": "stderr",
          "text": [
            "100%|██████████| 4.54k/4.54k [00:00<00:00, 2.47MB/s]\n"
          ]
        },
        {
          "output_type": "stream",
          "name": "stdout",
          "text": [
            "Extracting ./data/MNIST/raw/t10k-labels-idx1-ubyte.gz to ./data/MNIST/raw\n",
            "\n"
          ]
        }
      ]
    },
    {
      "cell_type": "code",
      "source": [
        "## Training Data\n",
        "print(train_dataset.classes)\n",
        "print(train_dataset.data.shape)\n",
        "print(train_dataset.targets.shape)"
      ],
      "metadata": {
        "colab": {
          "base_uri": "https://localhost:8080/"
        },
        "id": "UVVs3pgXcVfo",
        "outputId": "650b971e-9a06-48e6-9ad8-95569a05328c"
      },
      "execution_count": null,
      "outputs": [
        {
          "output_type": "stream",
          "name": "stdout",
          "text": [
            "['0 - zero', '1 - one', '2 - two', '3 - three', '4 - four', '5 - five', '6 - six', '7 - seven', '8 - eight', '9 - nine']\n",
            "torch.Size([60000, 28, 28])\n",
            "torch.Size([60000])\n"
          ]
        }
      ]
    },
    {
      "cell_type": "code",
      "source": [
        "## Test Data\n",
        "print(test_dataset.classes)\n",
        "print(test_dataset.data.shape)\n",
        "print(test_dataset.targets.shape)"
      ],
      "metadata": {
        "colab": {
          "base_uri": "https://localhost:8080/"
        },
        "id": "ghj-mV7Fey5W",
        "outputId": "8cf0d2e9-af3c-4f4f-f6ed-73e7ab61cf1d"
      },
      "execution_count": null,
      "outputs": [
        {
          "output_type": "stream",
          "name": "stdout",
          "text": [
            "['0 - zero', '1 - one', '2 - two', '3 - three', '4 - four', '5 - five', '6 - six', '7 - seven', '8 - eight', '9 - nine']\n",
            "torch.Size([10000, 28, 28])\n",
            "torch.Size([10000])\n"
          ]
        }
      ]
    },
    {
      "cell_type": "code",
      "source": [
        "in_features = 784  # input size - 28 * 28\n",
        "out_features = 10 # no. of classes"
      ],
      "metadata": {
        "id": "Zig7PnDafcEG"
      },
      "execution_count": null,
      "outputs": []
    },
    {
      "cell_type": "code",
      "source": [
        "train_dataloader = torch.utils.data.DataLoader(dataset=train_dataset, batch_size=batch_size, shuffle=True)\n",
        "\n",
        "test_dataloader = torch.utils.data.DataLoader(dataset=test_dataset, batch_size=batch_size, shuffle=False)"
      ],
      "metadata": {
        "id": "I1kmZitwf2Dp"
      },
      "execution_count": null,
      "outputs": []
    },
    {
      "cell_type": "code",
      "source": [
        "import matplotlib.pyplot as plt\n",
        "\n",
        "data = iter(train_dataloader)\n",
        "imgs, labels = next(data)\n",
        "print(imgs.shape)\n",
        "print(labels.shape)\n",
        "\n",
        "for i in range(5):\n",
        "  plt.subplot(1, 5, i+1)\n",
        "  plt.imshow(imgs[i][0],cmap='gray')\n",
        "  plt.xlabel(f'Label = {labels[i].item()}')\n",
        "plt.show()"
      ],
      "metadata": {
        "colab": {
          "base_uri": "https://localhost:8080/",
          "height": 204
        },
        "id": "a3SV6kUygmzS",
        "outputId": "1db650df-c216-4e1a-bf25-d2fe62c9419e"
      },
      "execution_count": null,
      "outputs": [
        {
          "output_type": "stream",
          "name": "stdout",
          "text": [
            "torch.Size([32, 1, 28, 28])\n",
            "torch.Size([32])\n"
          ]
        },
        {
          "output_type": "display_data",
          "data": {
            "text/plain": [
              "<Figure size 640x480 with 5 Axes>"
            ],
            "image/png": "[encoded data removed]"
          },
          "metadata": {}
        }
      ]
    },
    {
      "cell_type": "code",
      "source": [
        "class BasicNeuralNet(nn.Module):\n",
        "  def __init__(self, hidden_size):\n",
        "    super(BasicNeuralNet, self).__init__()\n",
        "    self.hidden_size = hidden_size\n",
        "    self.layer1 = nn.Linear(in_features, self.hidden_size)\n",
        "    self.layer2 = nn.Linear(self.hidden_size, out_features)\n",
        "\n",
        "  def forward(self, x):\n",
        "    out = self.layer1(x)\n",
        "    out = torch.relu(out)\n",
        "    out = self.layer2(out)\n",
        "    return out\n",
        "\n",
        "model = BasicNeuralNet(hidden_size).to(device)"
      ],
      "metadata": {
        "id": "2p7efooHhfZ2"
      },
      "execution_count": null,
      "outputs": []
    },
    {
      "cell_type": "code",
      "source": [
        "w1, b1, w2, b2 = list(model.parameters())"
      ],
      "metadata": {
        "id": "tqDFHSMPkrQw"
      },
      "execution_count": null,
      "outputs": []
    },
    {
      "cell_type": "code",
      "source": [
        "# First linear layer\n",
        "print(w1, b1)\n",
        "print(w1.shape)\n",
        "print(b1.shape)"
      ],
      "metadata": {
        "colab": {
          "base_uri": "https://localhost:8080/"
        },
        "id": "bxaDzNj6k_h-",
        "outputId": "e051a552-3a4a-4a1b-90a3-b8a9230438b9"
      },
      "execution_count": null,
      "outputs": [
        {
          "output_type": "stream",
          "name": "stdout",
          "text": [
            "Parameter containing:\n",
            "tensor([[-0.0329, -0.0252,  0.0089,  ...,  0.0334, -0.0139,  0.0116],\n",
            "        [-0.0283,  0.0134, -0.0045,  ...,  0.0118,  0.0116, -0.0286],\n",
            "        [-0.0086,  0.0216, -0.0303,  ..., -0.0084, -0.0145,  0.0227],\n",
            "        ...,\n",
            "        [-0.0159, -0.0291, -0.0171,  ..., -0.0310,  0.0127,  0.0231],\n",
            "        [-0.0248,  0.0022,  0.0228,  ..., -0.0096,  0.0127, -0.0123],\n",
            "        [ 0.0221, -0.0339, -0.0052,  ..., -0.0082, -0.0265, -0.0268]],\n",
            "       requires_grad=True) Parameter containing:\n",
            "tensor([ 3.1842e-02,  2.8431e-02,  1.8338e-02,  2.8267e-03, -4.8801e-03,\n",
            "         5.2073e-03,  1.2741e-02,  3.2993e-02,  1.1046e-02,  1.4238e-02,\n",
            "        -3.1100e-02,  1.4250e-02, -3.2196e-02, -3.5510e-02, -2.0920e-02,\n",
            "        -6.3381e-03,  1.0706e-02, -2.7487e-02, -1.9288e-03, -2.0760e-02,\n",
            "        -2.2540e-02,  1.4869e-02, -6.7311e-03,  3.2058e-03, -1.7991e-02,\n",
            "        -5.7288e-03, -3.0378e-02, -1.6644e-02, -2.1358e-02, -1.6445e-02,\n",
            "        -2.8195e-02, -1.0807e-02,  7.9543e-03,  2.3163e-02,  2.8978e-02,\n",
            "         7.8379e-03,  1.7914e-02,  1.1065e-03,  3.1846e-02, -1.5018e-02,\n",
            "        -2.9860e-02, -2.0382e-02, -2.2242e-02,  2.1057e-02,  2.0218e-02,\n",
            "        -1.2962e-02,  2.5291e-02, -2.5015e-02, -5.9869e-05, -2.4254e-02,\n",
            "         4.1116e-03, -2.7747e-02,  3.4804e-02,  2.9319e-02, -1.9619e-02,\n",
            "         1.6797e-02,  2.8654e-02, -1.3743e-02,  2.8153e-02, -1.8244e-03,\n",
            "        -2.6343e-03, -3.2952e-02,  1.4134e-02, -2.4423e-02, -1.7358e-02,\n",
            "        -1.2581e-02,  2.8671e-02,  1.1528e-02, -1.3209e-02, -3.3482e-02,\n",
            "        -1.3397e-02,  3.5023e-02,  3.1168e-02, -3.7922e-03, -1.3481e-02,\n",
            "         3.3241e-02,  1.3788e-02,  1.0702e-02,  2.4585e-02, -2.5700e-02,\n",
            "        -1.7999e-02, -2.2917e-02, -2.3683e-03, -6.4440e-03, -1.4581e-03,\n",
            "        -8.1504e-03,  2.9532e-02,  3.4102e-02,  3.0764e-02,  9.2431e-03,\n",
            "         5.2348e-03, -1.0008e-02, -2.8816e-02,  1.5169e-02, -1.6113e-02,\n",
            "        -1.7442e-02,  2.9310e-02,  7.6822e-05,  1.3135e-02,  2.5680e-02,\n",
            "         2.8731e-02,  3.2164e-02, -3.6521e-03, -2.1960e-02,  5.4005e-03,\n",
            "        -1.4693e-02, -3.2190e-02, -2.0350e-02,  6.9328e-04, -2.5439e-02,\n",
            "         1.8737e-02,  2.3669e-03, -8.5771e-03,  3.6023e-03,  3.3796e-02,\n",
            "        -2.9884e-02, -3.0706e-02, -1.0559e-02, -1.8349e-03, -1.2502e-02,\n",
            "         1.0404e-02,  4.8479e-03, -4.3242e-03,  3.4857e-02, -1.5124e-02,\n",
            "        -1.8314e-02, -1.8009e-02, -1.4170e-02, -5.2587e-03, -2.0843e-02,\n",
            "        -1.3546e-02, -1.9509e-02,  2.5062e-02, -1.7444e-02, -2.5977e-02,\n",
            "         5.1870e-03, -3.2612e-02,  2.7843e-02, -1.8871e-02, -2.2741e-02,\n",
            "         3.2791e-02,  1.9875e-02, -7.6263e-03, -2.4149e-02, -2.7509e-02,\n",
            "         2.2168e-02,  1.8776e-02, -6.8469e-03, -4.8586e-03,  1.8396e-02,\n",
            "         2.4642e-02, -9.7548e-03,  1.7802e-02, -3.1787e-02,  5.5980e-03,\n",
            "         9.6358e-03,  1.4416e-03, -1.5093e-02, -3.2351e-02,  1.2198e-02,\n",
            "         2.5852e-02, -2.4955e-02, -2.1224e-03, -2.3271e-02, -2.1809e-02,\n",
            "        -1.4428e-02, -2.5885e-02,  4.2765e-03, -2.4342e-02, -1.5614e-02,\n",
            "         2.4263e-02,  2.5067e-02, -2.6909e-02, -4.9937e-03, -1.9177e-02,\n",
            "        -3.2679e-02,  1.7741e-02, -3.4167e-02,  2.2083e-02,  1.0087e-02,\n",
            "        -1.2001e-02,  1.4483e-02,  8.4883e-03,  2.8759e-02,  3.4033e-02,\n",
            "         5.0710e-03,  3.3535e-02,  9.0886e-03, -2.6260e-03,  9.0490e-03,\n",
            "         2.0419e-02,  3.5280e-02,  9.9049e-03,  2.2585e-02, -1.0118e-02,\n",
            "        -1.6925e-02, -2.3163e-02,  3.3260e-02, -1.0810e-02, -1.9949e-02,\n",
            "         3.7236e-03, -1.4023e-02, -2.0677e-02,  2.6037e-02,  2.1181e-02,\n",
            "         2.6275e-02,  2.3648e-02,  1.4013e-02, -3.4399e-02,  3.5361e-02,\n",
            "        -4.2757e-03,  2.3862e-03,  2.1891e-02,  1.4136e-02, -1.9357e-02,\n",
            "         5.4087e-03, -1.6149e-02,  2.1512e-02, -1.8738e-02,  9.6597e-03,\n",
            "        -6.5265e-03,  1.6617e-02, -3.0394e-02,  4.0693e-03, -1.2763e-03,\n",
            "         1.1311e-02, -2.6905e-02,  6.3947e-04, -2.4102e-03,  2.6459e-02,\n",
            "         1.0165e-02,  1.0721e-03, -1.9778e-02, -8.9367e-03, -8.6909e-03,\n",
            "         1.6437e-02, -1.4963e-02, -2.9551e-02,  1.1413e-02, -1.1461e-02,\n",
            "        -6.4487e-03, -2.9622e-02, -8.0101e-03,  1.8423e-02, -6.4608e-03,\n",
            "        -3.3021e-02,  3.0124e-02, -3.0178e-02, -1.4060e-02,  1.6693e-02,\n",
            "         3.0931e-02,  3.5327e-02, -1.1869e-02,  3.5533e-03,  9.5390e-03,\n",
            "        -2.9648e-02, -1.4139e-02,  2.4545e-02,  2.0332e-02,  3.5598e-02,\n",
            "         1.4238e-02, -3.2015e-02,  3.1803e-02,  4.2304e-03,  2.8185e-02,\n",
            "         3.3298e-02,  2.7974e-02, -6.0085e-03,  1.6556e-02, -2.8413e-02,\n",
            "         1.6680e-02,  1.0518e-02,  1.6888e-02, -1.9023e-02,  2.2112e-02,\n",
            "         1.1460e-02, -3.0747e-02,  2.8754e-02, -1.6832e-02, -3.0191e-03,\n",
            "         8.1207e-04,  2.1801e-02,  2.5448e-02, -1.2605e-02,  3.2319e-02,\n",
            "         2.6462e-02, -1.9156e-02,  2.0557e-02,  2.3760e-02,  7.3128e-03,\n",
            "         1.9130e-02,  1.5043e-02, -2.5430e-02,  2.3400e-02,  2.7736e-02,\n",
            "         3.0407e-03,  3.6438e-03,  3.5084e-03,  1.9422e-02,  1.9569e-02,\n",
            "         1.3275e-02, -1.2179e-02,  1.0602e-02,  1.9845e-02,  3.3695e-02,\n",
            "         2.3790e-02, -1.3309e-02,  2.9083e-02, -9.6572e-03, -1.4790e-02,\n",
            "        -1.1738e-03, -2.6757e-02, -1.2647e-02,  2.8032e-03,  2.8589e-02,\n",
            "         3.2181e-02, -2.0166e-02, -1.5909e-02,  2.0998e-02,  2.3431e-02,\n",
            "        -2.5611e-02,  1.9744e-02, -4.7165e-03,  3.0722e-02,  2.0336e-02,\n",
            "         1.1033e-03,  4.0479e-03, -3.1910e-02,  1.3911e-02, -8.3013e-03,\n",
            "        -2.0557e-02,  7.7787e-03,  2.0197e-03,  9.0769e-03,  2.2518e-02,\n",
            "        -2.9376e-02, -8.8112e-03, -5.7736e-04, -9.2079e-03, -1.3735e-02,\n",
            "        -2.6088e-02,  2.1851e-02,  2.2641e-02, -2.6607e-03, -2.9014e-02,\n",
            "         2.5079e-02, -3.5153e-02,  1.3480e-02, -3.2987e-02, -1.7351e-02,\n",
            "         1.2820e-02,  9.8243e-04, -2.7422e-03, -3.5562e-02, -1.8680e-02,\n",
            "        -6.5308e-04, -2.4023e-02, -1.5306e-02, -3.3059e-02,  3.5690e-02,\n",
            "        -7.7556e-03, -1.4712e-02, -3.5682e-02, -1.1174e-02,  1.0846e-02,\n",
            "        -1.6813e-02,  1.3816e-02,  1.1122e-02, -1.2430e-02,  3.1190e-02,\n",
            "        -1.7438e-02,  2.9551e-02, -3.5412e-02,  2.9249e-02, -1.6857e-02,\n",
            "         8.1872e-03,  1.7892e-02,  6.6607e-03, -1.2069e-02, -7.9298e-03,\n",
            "        -3.5284e-02,  3.4690e-02,  3.2598e-02,  2.1380e-02, -1.5990e-02,\n",
            "         2.4740e-02,  1.5184e-02, -3.4429e-02, -2.8722e-02, -1.6163e-02,\n",
            "        -1.9872e-02, -1.2737e-02,  3.8320e-03,  2.4964e-02,  3.1655e-02,\n",
            "         9.4126e-03,  3.5552e-02,  2.6118e-02, -2.1980e-02,  1.0678e-02],\n",
            "       requires_grad=True)\n",
            "torch.Size([400, 784])\n",
            "torch.Size([400])\n"
          ]
        }
      ]
    },
    {
      "cell_type": "code",
      "source": [
        "# Second linear layer\n",
        "print(w2, b2)\n",
        "print(w2.shape)\n",
        "print(b2.shape)"
      ],
      "metadata": {
        "colab": {
          "base_uri": "https://localhost:8080/"
        },
        "id": "9AehAoERlPjq",
        "outputId": "bfa36126-35ab-4879-d8c5-3eb06a3ce6dd"
      },
      "execution_count": null,
      "outputs": [
        {
          "output_type": "stream",
          "name": "stdout",
          "text": [
            "Parameter containing:\n",
            "tensor([[-0.0190,  0.0338, -0.0195,  ..., -0.0040, -0.0367,  0.0364],\n",
            "        [-0.0441, -0.0181, -0.0125,  ..., -0.0249,  0.0114,  0.0206],\n",
            "        [ 0.0335,  0.0157, -0.0472,  ...,  0.0080, -0.0331,  0.0454],\n",
            "        ...,\n",
            "        [-0.0248, -0.0500,  0.0116,  ..., -0.0055,  0.0146, -0.0176],\n",
            "        [ 0.0357,  0.0075, -0.0106,  ...,  0.0451, -0.0375,  0.0476],\n",
            "        [-0.0199, -0.0084, -0.0088,  ..., -0.0487, -0.0065,  0.0491]],\n",
            "       requires_grad=True) Parameter containing:\n",
            "tensor([-0.0343, -0.0415, -0.0045, -0.0254,  0.0143,  0.0180, -0.0199,  0.0197,\n",
            "         0.0433, -0.0251], requires_grad=True)\n",
            "torch.Size([10, 400])\n",
            "torch.Size([10])\n"
          ]
        }
      ]
    },
    {
      "cell_type": "code",
      "source": [
        "criterion = nn.CrossEntropyLoss() # Loss\n",
        "optimizer = optim.Adam(model.parameters(), lr = learning_rate)"
      ],
      "metadata": {
        "id": "GZ6pLJYolu8c"
      },
      "execution_count": null,
      "outputs": []
    },
    {
      "cell_type": "code",
      "source": [
        "# Training\n",
        "total_steps = len(train_dataloader)\n",
        "for epoch in range(num_epochs):\n",
        "  for i, (images, labels) in enumerate (train_dataloader):\n",
        "    images = images.reshape(-1, 28*28).to(device)\n",
        "    labels = labels.to(device)\n",
        "\n",
        "    # Forward pass\n",
        "    outputs = model(images)\n",
        "\n",
        "    loss = criterion(outputs, labels)\n",
        "\n",
        "    # Backpropagation\n",
        "    loss.backward()\n",
        "\n",
        "    optimizer.step() # Parameter update\n",
        "    optimizer.zero_grad() # Gradient Reset\n",
        "\n",
        "    if i % 300 == 0:\n",
        "      print(f'Epoch {epoch}, Step {i}/{total_steps}, Loss: {loss.item():.3f}')"
      ],
      "metadata": {
        "colab": {
          "base_uri": "https://localhost:8080/"
        },
        "id": "gRjHCWcYmQFE",
        "outputId": "7339fbe8-774d-4a88-9cb4-6d658806dc55"
      },
      "execution_count": null,
      "outputs": [
        {
          "output_type": "stream",
          "name": "stdout",
          "text": [
            "Epoch 0, Step 0/1875, Loss: 2.314\n",
            "Epoch 0, Step 300/1875, Loss: 0.679\n",
            "Epoch 0, Step 600/1875, Loss: 0.288\n",
            "Epoch 0, Step 900/1875, Loss: 0.386\n",
            "Epoch 0, Step 1200/1875, Loss: 0.312\n",
            "Epoch 0, Step 1500/1875, Loss: 0.355\n",
            "Epoch 0, Step 1800/1875, Loss: 0.230\n",
            "Epoch 1, Step 0/1875, Loss: 0.344\n",
            "Epoch 1, Step 300/1875, Loss: 0.363\n",
            "Epoch 1, Step 600/1875, Loss: 0.081\n",
            "Epoch 1, Step 900/1875, Loss: 0.236\n",
            "Epoch 1, Step 1200/1875, Loss: 0.125\n",
            "Epoch 1, Step 1500/1875, Loss: 0.104\n",
            "Epoch 1, Step 1800/1875, Loss: 0.252\n",
            "Epoch 2, Step 0/1875, Loss: 0.191\n",
            "Epoch 2, Step 300/1875, Loss: 0.343\n",
            "Epoch 2, Step 600/1875, Loss: 0.123\n",
            "Epoch 2, Step 900/1875, Loss: 0.494\n",
            "Epoch 2, Step 1200/1875, Loss: 0.266\n",
            "Epoch 2, Step 1500/1875, Loss: 0.239\n",
            "Epoch 2, Step 1800/1875, Loss: 0.095\n",
            "Epoch 3, Step 0/1875, Loss: 0.219\n",
            "Epoch 3, Step 300/1875, Loss: 0.329\n",
            "Epoch 3, Step 600/1875, Loss: 0.138\n",
            "Epoch 3, Step 900/1875, Loss: 0.126\n",
            "Epoch 3, Step 1200/1875, Loss: 0.215\n",
            "Epoch 3, Step 1500/1875, Loss: 0.633\n",
            "Epoch 3, Step 1800/1875, Loss: 0.062\n",
            "Epoch 4, Step 0/1875, Loss: 0.441\n",
            "Epoch 4, Step 300/1875, Loss: 0.168\n",
            "Epoch 4, Step 600/1875, Loss: 0.162\n",
            "Epoch 4, Step 900/1875, Loss: 0.221\n",
            "Epoch 4, Step 1200/1875, Loss: 0.146\n",
            "Epoch 4, Step 1500/1875, Loss: 0.062\n",
            "Epoch 4, Step 1800/1875, Loss: 0.248\n",
            "Epoch 5, Step 0/1875, Loss: 0.092\n",
            "Epoch 5, Step 300/1875, Loss: 0.067\n",
            "Epoch 5, Step 600/1875, Loss: 0.169\n",
            "Epoch 5, Step 900/1875, Loss: 0.324\n",
            "Epoch 5, Step 1200/1875, Loss: 0.056\n",
            "Epoch 5, Step 1500/1875, Loss: 0.165\n",
            "Epoch 5, Step 1800/1875, Loss: 0.329\n",
            "Epoch 6, Step 0/1875, Loss: 0.097\n",
            "Epoch 6, Step 300/1875, Loss: 0.277\n",
            "Epoch 6, Step 600/1875, Loss: 0.134\n",
            "Epoch 6, Step 900/1875, Loss: 0.238\n",
            "Epoch 6, Step 1200/1875, Loss: 0.037\n",
            "Epoch 6, Step 1500/1875, Loss: 0.243\n",
            "Epoch 6, Step 1800/1875, Loss: 0.194\n",
            "Epoch 7, Step 0/1875, Loss: 0.029\n",
            "Epoch 7, Step 300/1875, Loss: 0.037\n",
            "Epoch 7, Step 600/1875, Loss: 0.237\n",
            "Epoch 7, Step 900/1875, Loss: 0.065\n",
            "Epoch 7, Step 1200/1875, Loss: 0.225\n",
            "Epoch 7, Step 1500/1875, Loss: 0.098\n",
            "Epoch 7, Step 1800/1875, Loss: 0.107\n"
          ]
        }
      ]
    },
    {
      "cell_type": "code",
      "source": [
        "# Test the model\n",
        "\n",
        "with torch.no_grad():\n",
        "  correct = 0\n",
        "  num_samples = len(test_dataloader.dataset)\n",
        "\n",
        "  for imgs, labels in test_dataloader:\n",
        "    imgs = imgs.reshape(-1, 28*28).to(device)\n",
        "    labels = labels.to(device)\n",
        "\n",
        "    outputs = model(imgs)\n",
        "\n",
        "    _, predicted = torch.max(outputs, 1)\n",
        "    correct += (predicted == labels).sum().item()\n",
        "\n",
        "  acc = correct / num_samples\n",
        "  print(f'Accuracy: {100*acc} %')"
      ],
      "metadata": {
        "colab": {
          "base_uri": "https://localhost:8080/"
        },
        "id": "Kd8VdLrTqtGO",
        "outputId": "b6aa106e-9f00-4afe-9411-a3b73f491fc4"
      },
      "execution_count": null,
      "outputs": [
        {
          "output_type": "stream",
          "name": "stdout",
          "text": [
            "Accuracy: 96.86 %\n"
          ]
        }
      ]
    },
    {
      "cell_type": "code",
      "source": [],
      "metadata": {
        "id": "1G0aQBIivNRi"
      },
      "execution_count": null,
      "outputs": []
    }
  ]
}